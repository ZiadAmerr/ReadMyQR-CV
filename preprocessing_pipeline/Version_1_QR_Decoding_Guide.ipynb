{
  "cells": [
    {
      "cell_type": "markdown",
      "metadata": {
        "id": "erPYGitnbDOL"
      },
      "source": [
        "# Imports"
      ]
    },
    {
      "cell_type": "code",
      "execution_count": null,
      "metadata": {
        "colab": {
          "base_uri": "https://localhost:8080/"
        },
        "id": "fxUgLK_uYEoH",
        "outputId": "1e24f243-62bd-4858-b185-fd61e85c3bd6"
      },
      "outputs": [
        {
          "name": "stdout",
          "output_type": "stream",
          "text": [
            "Requirement already satisfied: reedsolo in /usr/local/lib/python3.10/dist-packages (1.7.0)\n"
          ]
        }
      ],
      "source": [
        "import cv2\n",
        "import numpy as np\n",
        "import matplotlib.pyplot as plt\n",
        "!pip install --upgrade reedsolo\n",
        "import reedsolo as rs"
      ]
    },
    {
      "cell_type": "markdown",
      "metadata": {
        "id": "B6wrZuSPbIMc"
      },
      "source": [
        "# About QR codes\n",
        "###### *Main reference:* &nbsp;&nbsp; https://en.wikipedia.org/wiki/QR_code\n",
        "###### *Useful illustration video:* &nbsp;&nbsp; https://youtu.be/KA8hDldvfv0\n",
        "###### *A more thorough reference:* &nbsp;&nbsp; https://en.wikiversity.org/wiki/Reed%E2%80%93Solomon_codes_for_coders\n",
        "###### *An even more thorough reference:* &nbsp;&nbsp; https://www.thonky.com/qr-code-tutorial\n",
        "\n",
        "<br/>\n",
        "<br/>\n",
        "\n",
        "First, let's see what a QR code is made up of...\n",
        "\n",
        "![Structure of a QR code (version 7), highlighting functional elements.](https://upload.wikimedia.org/wikipedia/commons/thumb/1/1d/QR_Code_Structure_Example_3.svg/1280px-QR_Code_Structure_Example_3.svg.png)\n",
        "> *Structure of a QR code (version 7), highlighting functional elements.*\n",
        "\n",
        "<br/>\n",
        "<br/>\n",
        "\n",
        "## 1. Version Information\n",
        "The top-right finder pattern cell has a short field of data that is contained there. This lets us know which QR code version is being scanned.\n",
        "\n",
        "The two blue version information boxes in the example image above are mirror images of each other.\n",
        "\n",
        "Version and format information is doubly redundant in QR codes.\n",
        "## 2. Format information\n",
        "\n",
        "The red format information next to the bottom locator box matches the format information below the top left locator box, and the red format information below the top right locator box matches the format information to the right of the top left locator box.\n",
        "\n",
        "Version and format information is doubly redundant in QR codes.\n",
        "\n",
        "![Meaning of format information.](https://upload.wikimedia.org/wikipedia/commons/thumb/3/3b/QR_Format_Information.svg/1024px-QR_Format_Information.svg.png)\n",
        "> *Meaning of format information.*\n",
        "\n",
        "<br/>\n",
        "<br/>\n",
        "\n",
        "## 3. Data (incl. error correction)\n",
        "The message that the QR code includes, with error correction redundancy.\n",
        "\n",
        "![Message placement within a Ver 1 QR symbol (21×21).](https://upload.wikimedia.org/wikipedia/commons/thumb/2/21/QR_Character_Placement.svg/640px-QR_Character_Placement.svg.png)\n",
        "> *Message placement within a Ver 1 QR symbol (21×21).*\n",
        "\n",
        "<br/>\n",
        "<br/>\n",
        "\n",
        "## 4. Other patterns\n",
        "### 4.1. Position (locator/finder) pattern\n",
        "The three large squares (\"locator boxes\") at the corners of the QR code give you enough information about the location and overall orientation of the QR code. They are 7x7 black and white cells, surrounded by white padding wrt their position.\n",
        "\n",
        "If you can identify those three squares in an image, then you have identified that a QR code exists within their contour.\n",
        "### 4.2 Alignment pattern\n",
        "This pattern of squares ensures that you get the orientation of the QR code right, in case it is tilted or skewed.\n",
        "### 4.3 Timing pattern\n",
        "This L-shaped pattern connects the three squares. A damaged QR code can still be read because of the timing pattern, which enables the reader to distinguish between specific squares within the entire code.\n",
        "\n",
        "It is composed of alternating black and white pixels, starting with a black pixel right after the locator box white border.\n",
        "## 5. Quiet Zone\n",
        "This is the perimeter of a QR code. It is blank (white).\n",
        "\n",
        "A QR reader needs this border to distinguish what is and isn't contained in the QR code (due to interference from outside elements)."
      ]
    },
    {
      "cell_type": "markdown",
      "metadata": {
        "id": "LR1VX936t9mz"
      },
      "source": [
        "# Example"
      ]
    },
    {
      "cell_type": "markdown",
      "metadata": {
        "id": "Sx92FgkX9FQu"
      },
      "source": [
        "## Import and binarize\n",
        "Must make sure that the image is full of 0s or 255s for further processing"
      ]
    },
    {
      "cell_type": "code",
      "execution_count": null,
      "metadata": {
        "colab": {
          "base_uri": "https://localhost:8080/",
          "height": 444
        },
        "id": "BCBUacpyaC-L",
        "outputId": "822a8ef4-e59e-42db-f6b0-5f104b3d290c"
      },
      "outputs": [
        {
          "data": {
            "image/png": "[encoded data removed]",
            "text/plain": [
              "<Figure size 500x500 with 1 Axes>"
            ]
          },
          "metadata": {},
          "output_type": "display_data"
        }
      ],
      "source": [
        "img = cv2.cvtColor(cv2.imread(\"QR_1_Hello.png\"), cv2.COLOR_RGB2BGR)\n",
        "fig = plt.figure(figsize=(5, 5));\n",
        "plt.xticks([], []);\n",
        "plt.yticks([], []);\n",
        "plt.title('Example QR code (original RGB)')\n",
        "plt.imshow(img, cmap='gray');"
      ]
    },
    {
      "cell_type": "code",
      "execution_count": null,
      "metadata": {
        "colab": {
          "base_uri": "https://localhost:8080/",
          "height": 444
        },
        "id": "XMYC3uYYHQT7",
        "outputId": "3855474e-4c98-4529-9b6e-bf5966d559e2"
      },
      "outputs": [
        {
          "data": {
            "image/png": "[encoded data removed]",
            "text/plain": [
              "<Figure size 500x500 with 1 Axes>"
            ]
          },
          "metadata": {},
          "output_type": "display_data"
        }
      ],
      "source": [
        "img = cv2.cvtColor(img, cv2.COLOR_RGB2GRAY)\n",
        "_, img = cv2.threshold(img, 142, 255, cv2.THRESH_BINARY)\n",
        "fig = plt.figure(figsize=(5, 5));\n",
        "plt.xticks([], []);\n",
        "plt.yticks([], []);\n",
        "plt.title('Example QR code (grayscale, thresholded)')\n",
        "plt.imshow(img, cmap='gray');"
      ]
    },
    {
      "cell_type": "markdown",
      "metadata": {
        "id": "i9sueIhN9J20"
      },
      "source": [
        "## Use quiet zone to detect code area\n",
        "Simply go through white rows and columns until you find the first black pixel from the left, from the right, from the top, and from the bottom."
      ]
    },
    {
      "cell_type": "code",
      "execution_count": null,
      "metadata": {
        "colab": {
          "base_uri": "https://localhost:8080/"
        },
        "id": "-lqJGLTsuHHr",
        "outputId": "d872ddf3-6633-4e4c-f205-8e80e1aa5935"
      },
      "outputs": [
        {
          "name": "stdout",
          "output_type": "stream",
          "text": [
            "44 968 44 968\n"
          ]
        }
      ],
      "source": [
        "start_row = -1\n",
        "start_col = -1\n",
        "end_row = -1\n",
        "end_col = -1\n",
        "\n",
        "for row_index, row in enumerate(img):\n",
        "    for pixel in row:\n",
        "        if pixel != 255:\n",
        "            start_row = row_index\n",
        "            break\n",
        "    if start_row != -1:\n",
        "        break\n",
        "\n",
        "for row_index, row in enumerate(img[::-1]):\n",
        "    for pixel in row:\n",
        "        if pixel != 255:\n",
        "            end_row = img.shape[0] - row_index\n",
        "            break\n",
        "    if end_row != -1:\n",
        "        break\n",
        "\n",
        "for col_index, col in enumerate(cv2.transpose(img)):\n",
        "    for pixel in col:\n",
        "        if pixel != 255:\n",
        "            start_col = col_index\n",
        "            break\n",
        "    if start_col != -1:\n",
        "        break\n",
        "\n",
        "for col_index, col in enumerate(cv2.transpose(img)[::-1]):\n",
        "    for pixel in col:\n",
        "        if pixel != 255:\n",
        "            end_col = img.shape[1] - col_index\n",
        "            break\n",
        "    if end_col != -1:\n",
        "        break\n",
        "\n",
        "print(start_row, end_row, start_col, end_col)"
      ]
    },
    {
      "cell_type": "code",
      "execution_count": null,
      "metadata": {
        "colab": {
          "base_uri": "https://localhost:8080/",
          "height": 529
        },
        "id": "tuIclWxj8SFf",
        "outputId": "8c69942b-2213-4d2f-e3b3-f8355f77aef6"
      },
      "outputs": [
        {
          "data": {
            "image/png": "[encoded data removed]",
            "text/plain": [
              "<Figure size 500x500 with 1 Axes>"
            ]
          },
          "metadata": {},
          "output_type": "display_data"
        }
      ],
      "source": [
        "qr_no_quiet_zone = img[start_row:end_row, start_col:end_col]\n",
        "fig = plt.figure(figsize=(5, 5));\n",
        "plt.xticks([], []);\n",
        "plt.yticks([], []);\n",
        "fig.get_axes()[0].spines[:].set_color('red');\n",
        "fig.get_axes()[0].spines[:].set_linewidth(40);\n",
        "fig.get_axes()[0].spines[:].set_position((\"outward\", 20))\n",
        "plt.title('QR code without quiet zone', y = 1.15, color='red');\n",
        "plt.imshow(qr_no_quiet_zone, cmap='gray');"
      ]
    },
    {
      "cell_type": "markdown",
      "metadata": {
        "id": "9jSlBhus-GiQ"
      },
      "source": [
        "## Use locator boxes to determine grid size\n",
        "Since we know that the topleft pixel should be the border of the locator box, and that its size should be 7×7, we can determine the grid cell size by dividing its size in pixels by 7. How to get its size? It is a constant black row of pixels followed by one white cell. A simple for loop can get it done."
      ]
    },
    {
      "cell_type": "code",
      "execution_count": null,
      "metadata": {
        "colab": {
          "base_uri": "https://localhost:8080/"
        },
        "id": "RsYQQprN-JAS",
        "outputId": "c22c9fa9-ccd3-4c1c-d397-f9e01905deb5"
      },
      "outputs": [
        {
          "name": "stdout",
          "output_type": "stream",
          "text": [
            "308\n"
          ]
        }
      ],
      "source": [
        "size = 0\n",
        "for pixel in qr_no_quiet_zone[0]:\n",
        "    if (pixel != 0): break\n",
        "    size += 1\n",
        "\n",
        "print(size)"
      ]
    },
    {
      "cell_type": "code",
      "execution_count": null,
      "metadata": {
        "colab": {
          "base_uri": "https://localhost:8080/"
        },
        "id": "PdQ1wjF4PiO-",
        "outputId": "5dcc0054-2782-406b-ae82-9e910e9b9029"
      },
      "outputs": [
        {
          "name": "stdout",
          "output_type": "stream",
          "text": [
            "44\n"
          ]
        }
      ],
      "source": [
        "# Therefore the grid cell size is..\n",
        "grid_cell_size = round(size/7)\n",
        "print(grid_cell_size)"
      ]
    },
    {
      "cell_type": "code",
      "execution_count": null,
      "metadata": {
        "colab": {
          "base_uri": "https://localhost:8080/"
        },
        "id": "aA8n99IwUIjh",
        "outputId": "660f1eb1-f491-4b88-9430-15f020a4d541"
      },
      "outputs": [
        {
          "name": "stdout",
          "output_type": "stream",
          "text": [
            "21\n"
          ]
        }
      ],
      "source": [
        "# And it each row/column is expected to have the following no. of qr_cells\n",
        "grid_cells_num = round(qr_no_quiet_zone.shape[0]/grid_cell_size)\n",
        "print(grid_cells_num)"
      ]
    },
    {
      "cell_type": "code",
      "execution_count": null,
      "metadata": {
        "colab": {
          "base_uri": "https://localhost:8080/"
        },
        "id": "fHbjcaJMREFb",
        "outputId": "f21bcd5e-2c60-4c17-c741-5109833ef090"
      },
      "outputs": [
        {
          "name": "stdout",
          "output_type": "stream",
          "text": [
            "(924, 924)\n"
          ]
        }
      ],
      "source": [
        "# So now it is time to split the following shape...\n",
        "print(qr_no_quiet_zone.shape)"
      ]
    },
    {
      "cell_type": "code",
      "execution_count": null,
      "metadata": {
        "colab": {
          "base_uri": "https://localhost:8080/"
        },
        "id": "xaYxuP80Pk8m",
        "outputId": "ba157dcb-2615-4875-ecd1-e02367b99fbd"
      },
      "outputs": [
        {
          "name": "stdout",
          "output_type": "stream",
          "text": [
            "(21, 21, 44, 44)\n"
          ]
        }
      ],
      "source": [
        "# ...into grid cells\n",
        "qr_cells = qr_no_quiet_zone.reshape((\n",
        "    grid_cells_num,\n",
        "    grid_cell_size,\n",
        "    grid_cells_num,\n",
        "    grid_cell_size,\n",
        ")).swapaxes(1, 2)\n",
        "print(qr_cells.shape)"
      ]
    },
    {
      "cell_type": "code",
      "execution_count": null,
      "metadata": {
        "colab": {
          "base_uri": "https://localhost:8080/",
          "height": 422
        },
        "id": "2-ZXn5NoRTTT",
        "outputId": "acfa80cc-d53d-4dfc-9383-6a510b10f451"
      },
      "outputs": [
        {
          "data": {
            "image/png": "[encoded data removed]",
            "text/plain": [
              "<Figure size 500x500 with 441 Axes>"
            ]
          },
          "metadata": {},
          "output_type": "display_data"
        }
      ],
      "source": [
        "_, axes = plt.subplots(grid_cells_num, grid_cells_num, figsize=(5, 5))\n",
        "for i, row in enumerate(axes):\n",
        "    for j, col in enumerate(row):\n",
        "        col.imshow(qr_cells[i][j], cmap=\"gray\", vmin=0, vmax=255)\n",
        "        col.get_xaxis().set_visible(False)\n",
        "        col.get_yaxis().set_visible(False)\n",
        "        col.spines[:].set_color('red')"
      ]
    },
    {
      "cell_type": "markdown",
      "metadata": {
        "id": "Qd6ksq6mW3SP"
      },
      "source": [
        "## Convert grid tiles to numeric values"
      ]
    },
    {
      "cell_type": "code",
      "execution_count": null,
      "metadata": {
        "colab": {
          "base_uri": "https://localhost:8080/"
        },
        "id": "6yyfDhQHW8Jz",
        "outputId": "fb41b312-b1fb-42e5-c376-01e35017a081"
      },
      "outputs": [
        {
          "name": "stdout",
          "output_type": "stream",
          "text": [
            "[[0 0 0 0 0 0 0 1 0 0 1 1 1 1 0 0 0 0 0 0 0]\n",
            " [0 1 1 1 1 1 0 1 1 0 1 0 1 1 0 1 1 1 1 1 0]\n",
            " [0 1 0 0 0 1 0 1 0 1 0 1 1 1 0 1 0 0 0 1 0]\n",
            " [0 1 0 0 0 1 0 1 0 1 0 0 0 1 0 1 0 0 0 1 0]\n",
            " [0 1 0 0 0 1 0 1 0 1 1 0 0 1 0 1 0 0 0 1 0]\n",
            " [0 1 1 1 1 1 0 1 1 0 0 0 1 1 1 1 1 1 1 1 0]\n",
            " [0 0 0 0 0 0 0 1 0 1 0 1 0 1 1 1 0 0 0 0 0]\n",
            " [1 1 1 1 1 1 1 1 1 1 1 0 1 1 1 1 1 1 1 1 1]\n",
            " [0 0 0 0 1 1 0 1 0 1 0 0 1 1 1 1 1 0 0 1 0]\n",
            " [1 0 1 1 1 1 1 0 0 1 1 1 1 1 1 1 1 0 0 1 0]\n",
            " [0 0 0 1 0 1 0 1 1 0 1 1 1 0 0 0 1 1 1 0 0]\n",
            " [1 1 0 0 1 1 1 1 1 0 1 1 0 1 1 1 0 0 1 0 1]\n",
            " [0 1 1 1 0 1 0 1 0 1 0 1 0 0 1 0 1 1 1 1 0]\n",
            " [1 1 1 1 1 1 1 1 0 0 0 1 0 1 0 1 0 1 0 1 0]\n",
            " [0 0 0 0 0 0 0 1 1 1 1 0 1 0 0 1 0 1 1 1 1]\n",
            " [0 1 1 1 1 1 0 1 1 0 1 0 1 1 1 0 1 0 0 0 1]\n",
            " [0 1 0 0 0 1 0 1 1 1 1 1 0 1 1 0 0 0 0 1 0]\n",
            " [0 1 0 0 0 1 0 1 0 0 1 1 0 0 1 1 1 0 0 1 1]\n",
            " [0 1 0 0 0 1 0 1 0 1 0 0 0 1 1 0 1 1 0 1 1]\n",
            " [0 1 1 1 1 1 0 1 0 1 0 1 0 0 0 0 0 1 1 1 0]\n",
            " [0 0 0 0 0 0 0 1 0 0 0 0 1 1 1 0 1 1 0 1 1]]\n"
          ]
        }
      ],
      "source": [
        "qr_cells_numeric = np.ndarray((grid_cells_num, grid_cells_num), dtype=np.uint8)\n",
        "for i, row in enumerate(qr_cells):\n",
        "    for j, cell in enumerate(row):\n",
        "        qr_cells_numeric[i, j] = (np.median(cell) // 255)\n",
        "\n",
        "print(qr_cells_numeric)"
      ]
    },
    {
      "cell_type": "markdown",
      "metadata": {
        "id": "8smktSlIaOQo"
      },
      "source": [
        "## Information extraction\n",
        "\n",
        "![Meaning of format information.](https://upload.wikimedia.org/wikipedia/commons/thumb/3/3b/QR_Format_Information.svg/640px-QR_Format_Information.svg.png)\n",
        "> *Meaning of format information.*"
      ]
    },
    {
      "cell_type": "markdown",
      "metadata": {
        "id": "2aqZ9Ym6eXcp"
      },
      "source": [
        "### Error correction level"
      ]
    },
    {
      "cell_type": "code",
      "execution_count": null,
      "metadata": {
        "colab": {
          "base_uri": "https://localhost:8080/"
        },
        "id": "3OQ3XYkQeW93",
        "outputId": "ee111f82-7485-4349-fb22-321e6e4fe58f"
      },
      "outputs": [
        {
          "data": {
            "text/plain": [
              "array([0, 0, 0, 0, 1, 1, 0, 1, 0, 1, 0, 0, 1, 1, 1, 1, 1, 0, 0, 1, 0],\n",
              "      dtype=uint8)"
            ]
          },
          "execution_count": 13,
          "metadata": {},
          "output_type": "execute_result"
        }
      ],
      "source": [
        "# We want row #8\n",
        "qr_cells_numeric[8]"
      ]
    },
    {
      "cell_type": "code",
      "execution_count": null,
      "metadata": {
        "colab": {
          "base_uri": "https://localhost:8080/"
        },
        "id": "DftQienjiFdh",
        "outputId": "ae24b04b-d103-4335-b537-a78e44ebc13e"
      },
      "outputs": [
        {
          "name": "stdout",
          "output_type": "stream",
          "text": [
            "[1, 1]\n"
          ]
        }
      ],
      "source": [
        "# The first two bits determine the error correction level\n",
        "# Level L (Low)         [11]\t7%  of data bytes can be restored.\n",
        "# Level M (Medium)      [10]\t15% of data bytes can be restored.\n",
        "# Level Q (Quartile)    [01]\t25% of data bytes can be restored.\n",
        "# Level H (High)        [00]\t30% of data bytes can be restored.\n",
        "ecl = [int(not(c)) for c in qr_cells_numeric[8, 0:2]]\n",
        "# Why \"not\"? Because the standard uses '1's for black and '0's for white\n",
        "#\n",
        "# \"A dark module is a binary one and a light module is a binary zero.\"\n",
        "#  - ISO/IEC 18004:2000(E)\n",
        "#\n",
        "# In image processing, we use them the other way.. Hence the inversion\n",
        "print(ecl)"
      ]
    },
    {
      "cell_type": "markdown",
      "metadata": {
        "id": "pHqp3VFJg4GK"
      },
      "source": [
        "### Mask pattern"
      ]
    },
    {
      "cell_type": "code",
      "execution_count": null,
      "metadata": {
        "colab": {
          "base_uri": "https://localhost:8080/"
        },
        "id": "Km07iIWxg-gI",
        "outputId": "17fb8bf0-7e4d-4a81-eed9-913191a4a270"
      },
      "outputs": [
        {
          "name": "stdout",
          "output_type": "stream",
          "text": [
            "110\n"
          ]
        }
      ],
      "source": [
        "# Dictionary of all masks and their equivalent formulae\n",
        "MASKS = {\n",
        "    \"000\": lambda i, j: (i * j) % 2 + (i * j) % 3 == 0,\n",
        "    \"001\": lambda i, j: (i / 2 + j / 3) % 2 == 0,\n",
        "    \"010\": lambda i, j: ((i * j) % 3 + i + j) % 2 == 0,\n",
        "    \"011\": lambda i, j: ((i * j) % 3 + i * j) % 2 == 0,\n",
        "    \"100\": lambda i, j: i % 2 == 0,\n",
        "    \"101\": lambda i, j: (i + j) % 2 == 0,\n",
        "    \"110\": lambda i, j: (i + j) % 3 == 0,\n",
        "    \"111\": lambda i, j: j % 3 == 0,\n",
        "}\n",
        "\n",
        "# Same row as above, the three cells after the ecl cells (converted to a string)\n",
        "mask = [int(not(c)) for c in qr_cells_numeric[8, 2:5]]\n",
        "mask_str = ''.join([str(c) for c in mask])\n",
        "print(mask_str)"
      ]
    },
    {
      "cell_type": "markdown",
      "metadata": {
        "id": "BJWaqVBYg7Gz"
      },
      "source": [
        "### Format error correction"
      ]
    },
    {
      "cell_type": "code",
      "execution_count": null,
      "metadata": {
        "colab": {
          "base_uri": "https://localhost:8080/"
        },
        "id": "d1uHpA5oXXeN",
        "outputId": "43062a74-bf32-4375-f5fc-34e27f12c9e1"
      },
      "outputs": [
        {
          "name": "stdout",
          "output_type": "stream",
          "text": [
            "[0, 0, 1, 0, 1, 1, 1, 0, 0, 1]\n"
          ]
        }
      ],
      "source": [
        "# Same row as above, but we want cells #5 and #7 (#6 is always set to 0),\n",
        "#  followed by column #8 from cell #0 in it to cell #7 (and skipping #6)\n",
        "fec = []\n",
        "fec.append(qr_cells_numeric[8, 5])\n",
        "fec.append(qr_cells_numeric[8, 7])\n",
        "fec.extend(qr_cells_numeric[0:6, 8])\n",
        "fec.extend(qr_cells_numeric[7:9, 8])\n",
        "fec = [int(not(c)) for c in fec]\n",
        "print(fec)"
      ]
    },
    {
      "cell_type": "code",
      "execution_count": null,
      "metadata": {
        "colab": {
          "base_uri": "https://localhost:8080/"
        },
        "id": "WMKYiQA-qzbq",
        "outputId": "fbd4313d-80e2-4aad-fbca-59f5ef1d7b8a"
      },
      "outputs": [
        {
          "name": "stdout",
          "output_type": "stream",
          "text": [
            "[1, 1] [1, 1, 0] [0, 0, 1, 0, 1, 1, 1, 0, 0, 1]\n"
          ]
        }
      ],
      "source": [
        "# So in total we have the following 15 bits of format info from our QR code\n",
        "print(ecl, mask, fec)"
      ]
    },
    {
      "cell_type": "code",
      "execution_count": null,
      "metadata": {
        "colab": {
          "base_uri": "https://localhost:8080/",
          "height": 422
        },
        "id": "PQ0vjyjYbYij",
        "outputId": "dc53508b-421e-4792-9ec4-1d62f7f4819e"
      },
      "outputs": [
        {
          "data": {
            "image/png": "[encoded data removed]",
            "text/plain": [
              "<Figure size 500x500 with 441 Axes>"
            ]
          },
          "metadata": {},
          "output_type": "display_data"
        }
      ],
      "source": [
        "# Let's cross-check with our example\n",
        "_, axes = plt.subplots(grid_cells_num, grid_cells_num, figsize=(5, 5))\n",
        "for i, row in enumerate(axes):\n",
        "    for j, col in enumerate(row):\n",
        "\n",
        "        col.get_xaxis().set_visible(False)\n",
        "        col.get_yaxis().set_visible(False)\n",
        "        if (i == 8 and j <= 8) or (i <= 8 and j == 8):\n",
        "            if (i != 6) and (j != 6):\n",
        "                col.imshow(qr_cells[i][j], cmap=\"gray\", vmin=0, vmax=255)\n",
        "                col.spines[:].set_color('red')\n",
        "                continue\n",
        "        col.imshow(qr_cells[i][j], cmap=\"gray\", vmin=-1275, vmax=510)"
      ]
    },
    {
      "cell_type": "code",
      "execution_count": null,
      "metadata": {
        "colab": {
          "base_uri": "https://localhost:8080/"
        },
        "id": "8iLNLbZwcLG6",
        "outputId": "e8489cc6-368c-4cd9-f475-2dcdc152ec37"
      },
      "outputs": [
        {
          "name": "stdout",
          "output_type": "stream",
          "text": [
            "[0, 1] [0, 1, 1] [0, 0, 1, 0, 1, 0, 1, 0, 1, 1]\n"
          ]
        }
      ],
      "source": [
        "# However..... You need to XOR that with the \"format mask\": 101010000010010\n",
        "ecl[0] ^= 1\n",
        "mask[0] ^= 1\n",
        "mask[2] ^= 1\n",
        "fec[5] ^= 1\n",
        "fec[8] ^= 1\n",
        "\n",
        "# And now we print...\n",
        "print(ecl, mask, fec)"
      ]
    },
    {
      "cell_type": "markdown",
      "metadata": {
        "id": "WMxszDsfhF_Q"
      },
      "source": [
        "## Data extraction\n",
        "\n",
        "![Message placement within a Ver 1 QR symbol (21×21).](https://upload.wikimedia.org/wikipedia/commons/thumb/2/21/QR_Character_Placement.svg/640px-QR_Character_Placement.svg.png)\n",
        "> *Message placement within a Ver 1 QR symbol (21×21). Example from wikipedia, encoded QR message is www.wikipedia.org*"
      ]
    },
    {
      "cell_type": "code",
      "execution_count": null,
      "metadata": {
        "id": "TYeu5EEF22r6"
      },
      "outputs": [],
      "source": [
        "# Before we proceed, let's write a function for masking to make our lives easier\n",
        "UP, UP_ENC, DOWN, CW, CCW = range(5)  # A rather old-fashioned pythonic \"Enum\"\n",
        "\n",
        "def apply_mask(data_start_i, data_start_j, direction):\n",
        "    '''\n",
        "    data_start_i/j represent the first cell's coords in its respective direction\n",
        "    direction is the masking direction, up(-enc)/down/clockwise/anti-clockwise\n",
        "    '''\n",
        "    result = []\n",
        "    row_offsets = []\n",
        "    col_offsets = []\n",
        "    if (direction in [UP, UP_ENC]):\n",
        "        row_offsets = [0,  0, -1, -1, -2, -2, -3, -3]\n",
        "        col_offsets = [0, -1,  0, -1,  0, -1,  0, -1]\n",
        "    if (direction == DOWN):\n",
        "        row_offsets = [0,  0,  1,  1,  2,  2,  3,  3]\n",
        "        col_offsets = [0, -1,  0, -1,  0, -1,  0, -1]\n",
        "    if (direction == CW):\n",
        "        row_offsets = [0,  0,  1,  1,  1,  1,  0,  0]\n",
        "        col_offsets = [0, -1,  0, -1, -2, -3, -2, -3]\n",
        "    if (direction == CCW):\n",
        "        row_offsets = [0,  0, -1, -1, -1, -1,  0,  0]\n",
        "        col_offsets = [0, -1,  0, -1, -2, -3, -2, -3]\n",
        "\n",
        "    for i, j in zip(row_offsets, col_offsets):\n",
        "        cell = qr_cells_numeric[data_start_i+i, data_start_j+j]\n",
        "        result.append(int(cell if MASKS[mask_str](data_start_i+i, data_start_j+j) else not cell))\n",
        "\n",
        "    return result[:4] if direction == UP_ENC else result"
      ]
    },
    {
      "cell_type": "markdown",
      "metadata": {
        "id": "mHnX6w8Yvz9e"
      },
      "source": [
        "### Data encoding"
      ]
    },
    {
      "cell_type": "code",
      "execution_count": null,
      "metadata": {
        "colab": {
          "base_uri": "https://localhost:8080/"
        },
        "id": "sMKnJyYHhHKl",
        "outputId": "30ad93a2-b778-44c7-df75-d1be607703b6"
      },
      "outputs": [
        {
          "name": "stdout",
          "output_type": "stream",
          "text": [
            "[0, 1, 0, 0] = Byte encoding (8 bits per character)\n"
          ]
        }
      ],
      "source": [
        "enc_bits = apply_mask(grid_cells_num-1, grid_cells_num-1, UP_ENC)\n",
        "enc_int = int(''.join([str(bit) for bit in enc_bits]), 2)\n",
        "print(f'{enc_bits} = Byte encoding (8 bits per character)')\n",
        "# 0001\tNumeric encoding (10 bits per 3 digits)\n",
        "# 0010\tAlphanumeric encoding (11 bits per 2 characters)\n",
        "# 0100\tByte encoding (8 bits per character)\n",
        "# 1000\tKanji encoding (13 bits per character)\n",
        "# ..."
      ]
    },
    {
      "cell_type": "markdown",
      "metadata": {
        "id": "_Es8SoZ02lct"
      },
      "source": [
        "### Data length"
      ]
    },
    {
      "cell_type": "code",
      "execution_count": null,
      "metadata": {
        "colab": {
          "base_uri": "https://localhost:8080/"
        },
        "id": "JZ5ml6N02kC3",
        "outputId": "a01078c1-c530-468c-d0b6-732470be0b55"
      },
      "outputs": [
        {
          "name": "stdout",
          "output_type": "stream",
          "text": [
            "[0, 0, 0, 1, 0, 0, 0, 1] = 17 data symbols, each consisting of 8 bits\n"
          ]
        }
      ],
      "source": [
        "len_bits = apply_mask(grid_cells_num-3, grid_cells_num-1, UP)\n",
        "len_int = int(''.join([str(bit) for bit in len_bits]), 2)\n",
        "print(f'{len_bits} = {len_int} data symbols, each consisting of 8 bits')"
      ]
    },
    {
      "cell_type": "markdown",
      "metadata": {
        "id": "ugMlyRLEHX-V"
      },
      "source": [
        "### Data extraction (and error correction!)"
      ]
    },
    {
      "cell_type": "code",
      "execution_count": null,
      "metadata": {
        "colab": {
          "base_uri": "https://localhost:8080/"
        },
        "id": "2C9MtuNJHY0m",
        "outputId": "fdb46d98-eae1-4e84-e283-f2b76a6ac2d2"
      },
      "outputs": [
        {
          "name": "stdout",
          "output_type": "stream",
          "text": [
            "01001000 (=072) = H\n",
            "01100101 (=101) = e\n",
            "01101100 (=108) = l\n",
            "01101100 (=108) = l\n",
            "01101111 (=111) = o\n",
            "00101100 (=044) = ,\n",
            "00100000 (=032) =  \n",
            "01010001 (=081) = Q\n",
            "01010010 (=082) = R\n",
            "00100000 (=032) =  \n",
            "01010111 (=087) = W\n",
            "01101111 (=111) = o\n",
            "01110010 (=114) = r\n",
            "01100100 (=100) = d\n",
            "01100100 (=100) = d\n",
            "00100001 (=033) = !\n",
            "00110001 (=049) = 1\n",
            "0000...         = NULL TERMINATOR (END Symbol, SKIP!)\n",
            "00000101 (=005) = \u0005\n",
            "01011111 (=095) = _\n",
            "11100000 (=224) = à\n",
            "11111001 (=249) = ù\n",
            "10011011 (=155) = \n",
            "00110101 (=053) = 5\n",
            "10110010 (=178) = ²\n",
            "11111000 (=248) = ø\n",
            "\n",
            "i.e., the data and ECCs in the QR code as-is are \"Hello, QR Wordd!1_àù5²ø\"\n",
            "\n",
            "Now decoding...\n",
            "\n",
            "This codec can correct up to 3 errors and 7 erasures independently\n",
            "Decoded message = \"A\u0014VÆÆòÂ\u0005\u0015\"\u0005v÷&ÆB\u0013\u0010\"\n",
            "Decoded ECCs    = \"_àù5²ø\"\n",
            "Data in message = \"Hello, QR World!1\"\n",
            "Data should be... \"Hello, QR World!1\" - and yes there's a '1' after the '!'\n"
          ]
        }
      ],
      "source": [
        "data_starting_indices = [\n",
        "    [grid_cells_num-7,  grid_cells_num-1,  UP],    #    w    /     H\n",
        "    [grid_cells_num-11, grid_cells_num-1,  CCW],   #    w    /     e\n",
        "    [grid_cells_num-10, grid_cells_num-3,  DOWN],  #    w    /     l\n",
        "    [grid_cells_num-6,  grid_cells_num-3,  DOWN],  #    .    /     l\n",
        "    [grid_cells_num-2,  grid_cells_num-3,  CW],    #    w    /     o\n",
        "    [grid_cells_num-3,  grid_cells_num-5,  UP],    #    i    /     ,\n",
        "    [grid_cells_num-7,  grid_cells_num-5,  UP],    #    k    /  (space)\n",
        "    [grid_cells_num-11, grid_cells_num-5,  CCW],   #    i    /     Q\n",
        "    [grid_cells_num-10, grid_cells_num-7,  DOWN],  #    p    /     R\n",
        "    [grid_cells_num-6,  grid_cells_num-7,  DOWN],  #    e    /  (space)\n",
        "    [grid_cells_num-2,  grid_cells_num-7,  CW],    #    d    /     W\n",
        "    [grid_cells_num-3,  grid_cells_num-9,  UP],    #    i    /     o\n",
        "    [grid_cells_num-7,  grid_cells_num-9,  UP],    #    a    /     r\n",
        "    [grid_cells_num-11, grid_cells_num-9,  UP],    #    .    /     l\n",
        "    [grid_cells_num-16, grid_cells_num-9,  UP],    #    o    /     d\n",
        "    [grid_cells_num-20, grid_cells_num-9,  CCW],   #    r    /     !\n",
        "    [grid_cells_num-19, grid_cells_num-11, DOWN],  #    g    /     1\n",
        "    [grid_cells_num-14, grid_cells_num-11, DOWN],  # End of message (Terminator)\n",
        "    [grid_cells_num-12, grid_cells_num-11, DOWN],  # E1\n",
        "    [grid_cells_num-8,  grid_cells_num-11, DOWN],  # E2\n",
        "    [grid_cells_num-4,  grid_cells_num-11, DOWN],  # E3\n",
        "    [grid_cells_num-9,  grid_cells_num-13, UP],    # E4\n",
        "    [grid_cells_num-12, grid_cells_num-16, DOWN],  # E5\n",
        "    [grid_cells_num-9,  grid_cells_num-18, UP],    # E6\n",
        "    [grid_cells_num-12, grid_cells_num-20, DOWN],  # E7\n",
        "]\n",
        "\n",
        "message_bits = []\n",
        "message_bits.extend(enc_bits)\n",
        "message_bits.extend(len_bits)\n",
        "extracted_data_no_error_correction = ''\n",
        "for a, b, d in data_starting_indices:  # For each starting index and direction\n",
        "    bits = apply_mask(a, b, d)  # Extract the bits per the indexed QR code symbol\n",
        "    bit_string = ''.join([str(bit) for bit in bits])  # Convert to string of bits\n",
        "    alpha_char = chr(int(bit_string, 2))  # Convert binary to int, then to a char\n",
        "    if bit_string[:4] == \"0000\":  # If the first 4 bits are 0s, this is the END\n",
        "        print(f'{bit_string[:4]}...         = NULL TERMINATOR (END Symbol, SKIP!)')\n",
        "        message_bits.extend(bits[:4])  # Append only the four bits\n",
        "    else:  # If not the END symbol, append full set of bits\n",
        "        message_bits.extend(bits)\n",
        "        extracted_data_no_error_correction += alpha_char\n",
        "    print(f'{bit_string} (={int(bit_string, 2):03d}) = {alpha_char}')\n",
        "\n",
        "print(f'\\ni.e., the data and ECCs in the QR code as-is are \"{extracted_data_no_error_correction}\"')\n",
        "\n",
        "# For every 8 bits in the extracted message, convert to a byte\n",
        "message_bytes = [int(\"\".join(map(str, message_bits[i:i+8])), 2) for i in range(0, len(message_bits), 8)]\n",
        "\n",
        "# Create the Reed-Solomon Codec for 7 ECC symbols\n",
        "rsc = rs.RSCodec(nsym=7)\n",
        "\n",
        "# Decode the bytes with the 7-ECC RS Codec\n",
        "message_decoded = rsc.decode(message_bytes)\n",
        "print('\\nNow decoding...\\n')\n",
        "rsc.maxerrata(verbose=True)\n",
        "print(f'Decoded message = \"{message_decoded[0].decode(encoding=\"iso-8859-1\")}\"')\n",
        "print(f'Decoded ECCs    = \"{message_decoded[1][-7:].decode(encoding=\"iso-8859-1\")}\"')\n",
        "\n",
        "# In order to extract the actual data, need to convert back to bits and...\n",
        "# ...remove the initial 12 bits (enc and len) and last 4 bits (terminator)\n",
        "data_bits = bin(int.from_bytes(message_decoded[0], byteorder='big'))[13:-4]\n",
        "\n",
        "# Now convert back to bytes and print it lol\n",
        "data_bytes = int(data_bits, 2).to_bytes((len(data_bits)+7)//8, 'big')\n",
        "print(f'Data in message = \"{data_bytes.decode(encoding=\"iso-8859-1\")}\"')\n",
        "print(f'Data should be... \"Hello, QR World!1\" - and yes there\\'s a \\'1\\' after the \\'!\\'')"
      ]
    },
    {
      "cell_type": "markdown",
      "metadata": {
        "id": "wbOq-2i_tU09"
      },
      "source": [
        "# Another (more summarized) example"
      ]
    },
    {
      "cell_type": "code",
      "execution_count": null,
      "metadata": {
        "colab": {
          "base_uri": "https://localhost:8080/",
          "height": 754
        },
        "id": "zXm_9-zctNpB",
        "outputId": "481805a4-1b50-4e1c-f9af-7f8034294738"
      },
      "outputs": [
        {
          "name": "stdout",
          "output_type": "stream",
          "text": [
            "00110001 (=049) = 1\n",
            "01110001 (=113) = q\n",
            "01100001 (=097) = a\n",
            "01111010 (=122) = z\n",
            "00100001 (=033) = !\n",
            "01010001 (=081) = Q\n",
            "01000001 (=065) = A\n",
            "01011010 (=090) = Z\n",
            "01000000 (=064) = @\n",
            "01010111 (=087) = W\n",
            "01010011 (=083) = S\n",
            "01011000 (=088) = X\n",
            "00101111 (=047) = /\n",
            "01011100 (=092) = \\\n",
            "00100111 (=039) = '\n",
            "01011011 (=091) = [\n",
            "01011101 (=093) = ]\n",
            "0000...         = NULL TERMINATOR (END Symbol, SKIP!)\n",
            "00001101 (=013) = \r\n",
            "11010111 (=215) = ×\n",
            "10010100 (=148) = \n",
            "10111110 (=190) = ¾\n",
            "11000111 (=199) = Ç\n",
            "10110011 (=179) = ³\n",
            "01110011 (=115) = s\n",
            "01001100 (=076) = L\n",
            "Data in message = \"qaz!QAZ@WSX/\\'[]\"\n",
            "Data should be... \"1qaz!QAZ@WSX/\\'[]\"\n"
          ]
        },
        {
          "data": {
            "image/png": "[encoded data removed]",
            "text/plain": [
              "<Figure size 300x300 with 1 Axes>"
            ]
          },
          "metadata": {},
          "output_type": "display_data"
        }
      ],
      "source": [
        "img = cv2.imread(\"QR_2_Symbols.png\", cv2.IMREAD_GRAYSCALE)\n",
        "_, img = cv2.threshold(img, 128, 255, cv2.THRESH_BINARY)\n",
        "fig = plt.figure(figsize=(3, 3));\n",
        "plt.xticks([], []);\n",
        "plt.yticks([], []);\n",
        "plt.imshow(img, cmap='gray')\n",
        "\n",
        "start_row = -1\n",
        "start_col = -1\n",
        "end_row = -1\n",
        "end_col = -1\n",
        "\n",
        "for row_index, row in enumerate(img):\n",
        "    for pixel in row:\n",
        "        if pixel != 255:\n",
        "            start_row = row_index\n",
        "            break\n",
        "    if start_row != -1:\n",
        "        break\n",
        "\n",
        "for row_index, row in enumerate(img[::-1]):\n",
        "    for pixel in row:\n",
        "        if pixel != 255:\n",
        "            end_row = img.shape[0] - row_index\n",
        "            break\n",
        "    if end_row != -1:\n",
        "        break\n",
        "\n",
        "for col_index, col in enumerate(cv2.transpose(img)):\n",
        "    for pixel in col:\n",
        "        if pixel != 255:\n",
        "            start_col = col_index\n",
        "            break\n",
        "    if start_col != -1:\n",
        "        break\n",
        "\n",
        "for col_index, col in enumerate(cv2.transpose(img)[::-1]):\n",
        "    for pixel in col:\n",
        "        if pixel != 255:\n",
        "            end_col = img.shape[1] - col_index\n",
        "            break\n",
        "    if end_col != -1:\n",
        "        break\n",
        "\n",
        "qr_no_quiet_zone = img[start_row:end_row, start_col:end_col]\n",
        "\n",
        "size = 0\n",
        "for pixel in qr_no_quiet_zone[0]:\n",
        "    if (pixel != 0): break\n",
        "    size += 1\n",
        "\n",
        "grid_cell_size = round(size/7)\n",
        "grid_cells_num = round(qr_no_quiet_zone.shape[0]/grid_cell_size)\n",
        "qr_cells = qr_no_quiet_zone.reshape((\n",
        "    grid_cells_num,\n",
        "    grid_cell_size,\n",
        "    grid_cells_num,\n",
        "    grid_cell_size,\n",
        ")).swapaxes(1, 2)\n",
        "\n",
        "qr_cells_numeric = np.ndarray((grid_cells_num, grid_cells_num), dtype=np.uint8)\n",
        "for i, row in enumerate(qr_cells):\n",
        "    for j, cell in enumerate(row):\n",
        "        qr_cells_numeric[i, j] = (np.median(cell) // 255)\n",
        "\n",
        "mask = [int(not(c)) for c in qr_cells_numeric[8, 2:5]]\n",
        "mask_str = ''.join([str(c) for c in mask])\n",
        "\n",
        "mask[0] ^= 1\n",
        "mask[2] ^= 1\n",
        "\n",
        "message_bits = []\n",
        "message_bits.extend(enc_bits)\n",
        "message_bits.extend(len_bits)\n",
        "for a, b, d in data_starting_indices:\n",
        "    bits = apply_mask(a, b, d)\n",
        "    bit_string = ''.join([str(bit) for bit in bits])\n",
        "    alpha_char = chr(int(bit_string, 2))\n",
        "    if bit_string[:4] == \"0000\":\n",
        "        print(f'{bit_string[:4]}...         = NULL TERMINATOR (END Symbol, SKIP!)')\n",
        "        message_bits.extend(bits[:4])\n",
        "    else:\n",
        "        message_bits.extend(bits)\n",
        "    print(f'{bit_string} (={int(bit_string, 2):03d}) = {alpha_char}')\n",
        "\n",
        "message_bytes = [int(\"\".join(map(str, message_bits[i:i+8])), 2) for i in range(0, len(message_bits), 8)]\n",
        "\n",
        "rsc = rs.RSCodec(nsym=7)\n",
        "message_decoded = rsc.decode(message_bytes)\n",
        "\n",
        "data_bits = bin(int.from_bytes(message_decoded[0], byteorder='big'))[13:-4]\n",
        "data_bytes = int(data_bits, 2).to_bytes((len(data_bits)+7)//8, 'big')\n",
        "\n",
        "print(f'Data in message = \"{data_bytes[1:].decode(encoding=\"iso-8859-1\")}\"')\n",
        "print(f'Data should be... \"1qaz!QAZ@WSX/\\\\\\'[]\"')"
      ]
    },
    {
      "cell_type": "markdown",
      "metadata": {
        "id": "xoSz2259vL-e"
      },
      "source": [
        "<hr/>\n",
        "\n",
        "Now your job is to include redundant data, look into the error correcting mechanism(s), and perhaps look into newer QR code versions (although that will probably be too difficult, so keep that as a challenge if you find everything else easy). *Good luck :)*"
      ]
    },
    {
      "cell_type": "markdown",
      "metadata": {
        "id": "vePIp9oo5cdD"
      },
      "source": [
        "**Here's for example the structure of a version 3 QR code:**\n",
        "![Version 3 QR Code illustrating interleaved Reed-Solomon blocks](https://upload.wikimedia.org/wikipedia/commons/thumb/7/77/QR_Ver3_Codeword_Ordering.svg/1280px-QR_Ver3_Codeword_Ordering.svg.png)\n",
        "> Version 3 QR Code illustrating interleaved Reed-Solomon blocks"
      ]
    },
    {
      "cell_type": "markdown",
      "metadata": {
        "id": "HkRcWlbv6x8y"
      },
      "source": [
        "# Yet another example on Version 1"
      ]
    },
    {
      "cell_type": "markdown",
      "metadata": {
        "id": "mquQnPdQAZ3s"
      },
      "source": [
        "## Preprocessing"
      ]
    },
    {
      "cell_type": "code",
      "execution_count": null,
      "metadata": {
        "colab": {
          "base_uri": "https://localhost:8080/",
          "height": 285
        },
        "id": "9WMOf35O6xAZ",
        "outputId": "adbf4454-a861-4867-ba20-a8c02bb2d994"
      },
      "outputs": [
        {
          "name": "stdout",
          "output_type": "stream",
          "text": [
            "(21, 21)\n"
          ]
        },
        {
          "data": {
            "image/png": "[encoded data removed]",
            "text/plain": [
              "<Figure size 300x300 with 1 Axes>"
            ]
          },
          "metadata": {},
          "output_type": "display_data"
        }
      ],
      "source": [
        "_, img3 = cv2.threshold(cv2.imread(\"QR_3_a.png\", cv2.IMREAD_GRAYSCALE), 128, 255, cv2.THRESH_BINARY);\n",
        "\n",
        "start_row = -1\n",
        "start_col = -1\n",
        "end_row = -1\n",
        "end_col = -1\n",
        "\n",
        "for row_index, row in enumerate(img3):\n",
        "    for pixel in row:\n",
        "        if pixel != 255:\n",
        "            start_row = row_index\n",
        "            break\n",
        "    if start_row != -1:\n",
        "        break\n",
        "\n",
        "for row_index, row in enumerate(img3[::-1]):\n",
        "    for pixel in row:\n",
        "        if pixel != 255:\n",
        "            end_row = img3.shape[0] - row_index\n",
        "            break\n",
        "    if end_row != -1:\n",
        "        break\n",
        "\n",
        "for col_index, col in enumerate(cv2.transpose(img3)):\n",
        "    for pixel in col:\n",
        "        if pixel != 255:\n",
        "            start_col = col_index\n",
        "            break\n",
        "    if start_col != -1:\n",
        "        break\n",
        "\n",
        "for col_index, col in enumerate(cv2.transpose(img3)[::-1]):\n",
        "    for pixel in col:\n",
        "        if pixel != 255:\n",
        "            end_col = img3.shape[1] - col_index\n",
        "            break\n",
        "    if end_col != -1:\n",
        "        break\n",
        "\n",
        "img3_no_quiet_zone = img3[start_row:end_row, start_col:end_col]\n",
        "\n",
        "# Alternative method to get the grid directly\n",
        "# I directly resize it to 21x21 and use something like the replacement downscaling geometric transformation\n",
        "# So for each collection of pixels, only one pixel survives, and since this is a perfect test case, it works\n",
        "# In non-perfect test cases, you'd have needed to do some more steps to ensure correct replacement is done\n",
        "img3_21x21_grid = cv2.resize(img3_no_quiet_zone, (21, 21), interpolation=cv2.INTER_AREA) // 255\n",
        "\n",
        "fig = plt.figure(figsize=(3, 3));\n",
        "plt.xticks([], []);\n",
        "plt.yticks([], []);\n",
        "plt.imshow(img3_21x21_grid, cmap='gray');\n",
        "print(img3_21x21_grid.shape)"
      ]
    },
    {
      "cell_type": "markdown",
      "metadata": {
        "id": "RLgFd-EdV3YH"
      },
      "source": [
        "This time I will invert the entire grid before proceeding, to abide by the QR Code's convention of setting black cells to 1 and white to 0."
      ]
    },
    {
      "cell_type": "code",
      "execution_count": null,
      "metadata": {
        "id": "PwI2S5YNWEM7"
      },
      "outputs": [],
      "source": [
        "img3_21x21_grid_inv = 1 - img3_21x21_grid"
      ]
    },
    {
      "cell_type": "markdown",
      "metadata": {
        "id": "IycEyXYyAeIl"
      },
      "source": [
        "## QR Format Extraction"
      ]
    },
    {
      "cell_type": "code",
      "execution_count": null,
      "metadata": {
        "colab": {
          "base_uri": "https://localhost:8080/"
        },
        "id": "JXxI-LNz9Gzn",
        "outputId": "a3c7d52a-0ce5-4775-c621-34b1960a7c88"
      },
      "outputs": [
        {
          "name": "stdout",
          "output_type": "stream",
          "text": [
            "[1 1] [1 1 0]\n"
          ]
        }
      ],
      "source": [
        "ecl = img3_21x21_grid_inv[8, 0:2]\n",
        "mask = img3_21x21_grid_inv[8, 2:5]\n",
        "# I don't care about FEC because I know this is a perfect test case\n",
        "# However, you! should care (the FEC is what tells you whether the format bits are correct or not)\n",
        "# I will leave it up to you to check for their correctness via decoding or a lookup table\n",
        "# Since this time I won't demonstrate the FEC concept, I don't need to apply the FEC mask\n",
        "# Thus, these are our ECL and MASK values:\n",
        "print(ecl, mask)\n",
        "# Remember, regarding the ECL value, we choose from the following:\n",
        "# Level L (Low)         [11]\t7%  of data bytes can be restored.\n",
        "# Level M (Medium)      [10]\t15% of data bytes can be restored.\n",
        "# Level Q (Quartile)    [01]\t25% of data bytes can be restored.\n",
        "# Level H (High)        [00]\t30% of data bytes can be restored."
      ]
    },
    {
      "cell_type": "markdown",
      "metadata": {
        "id": "UnFs9XDOBdOm"
      },
      "source": [
        "## Data Extraction"
      ]
    },
    {
      "cell_type": "code",
      "execution_count": null,
      "metadata": {
        "id": "tOg5rotUArgS"
      },
      "outputs": [],
      "source": [
        "# Dictionary of all masks and their equivalent formulae\n",
        "# P.S. I modified them to account for that I skipped the FEC mask part above\n",
        "# If you will do it, do not XOR the mask if you wish to use this MASKS table\n",
        "MASKS = {\n",
        "    \"000\": lambda i, j: (i * j) % 2 + (i * j) % 3 == 0,\n",
        "    \"001\": lambda i, j: (i // 2 + j // 3) % 2 == 0,\n",
        "    \"010\": lambda i, j: ((i + j) % 2 + (i * j) % 3) % 2 == 0,\n",
        "    \"011\": lambda i, j: ((i * j) % 2 + (i * j) % 3) % 2 == 0,\n",
        "    \"100\": lambda i, j: i % 2 == 0,\n",
        "    \"101\": lambda i, j: (i + j) % 2 == 0,\n",
        "    \"110\": lambda i, j: (i + j) % 3 == 0,\n",
        "    \"111\": lambda i, j: j % 3 == 0,\n",
        "}\n",
        "# Enum for the different directions of reading blocks in the QR code\n",
        "# The number indicates how many bytes are in this block\n",
        "UP8, UP4, DOWN8, DOWN4, CW8, CCW8 = range(6)"
      ]
    },
    {
      "cell_type": "code",
      "execution_count": null,
      "metadata": {
        "id": "4u45Q9I_-Q0m"
      },
      "outputs": [],
      "source": [
        "# A more general apply_mask function (still works the same way)\n",
        "def apply_mask_general(data_start_i, data_start_j, data, mask, direction):\n",
        "    result = []\n",
        "    row_offsets = []\n",
        "    col_offsets = []\n",
        "    mask_str = ''.join([str(c) for c in mask])\n",
        "    if (direction in [UP8, UP4]):\n",
        "        row_offsets = [0,  0, -1, -1, -2, -2, -3, -3]\n",
        "        col_offsets = [0, -1,  0, -1,  0, -1,  0, -1]\n",
        "    if (direction in [DOWN8, DOWN4]):\n",
        "        row_offsets = [0,  0,  1,  1,  2,  2,  3,  3]\n",
        "        col_offsets = [0, -1,  0, -1,  0, -1,  0, -1]\n",
        "    if (direction == CW8):\n",
        "        row_offsets = [0,  0,  1,  1,  1,  1,  0,  0]\n",
        "        col_offsets = [0, -1,  0, -1, -2, -3, -2, -3]\n",
        "    if (direction == CCW8):\n",
        "        row_offsets = [0,  0, -1, -1, -1, -1,  0,  0]\n",
        "        col_offsets = [0, -1,  0, -1, -2, -3, -2, -3]\n",
        "    for i, j in zip(row_offsets, col_offsets):\n",
        "        cell_bit = bool(data[data_start_i+i, data_start_j+j])\n",
        "        mask_bit = MASKS[mask_str](data_start_i+i, data_start_j+j)\n",
        "        # Modules corresponding to the dark areas of the mask are inverted.\n",
        "        result.append(int(not cell_bit if mask_bit else cell_bit))\n",
        "    return result[:4] if direction in [UP4, DOWN4] else result"
      ]
    },
    {
      "cell_type": "code",
      "execution_count": null,
      "metadata": {
        "colab": {
          "base_uri": "https://localhost:8080/"
        },
        "id": "xSpP11F4AuRt",
        "outputId": "e25b06c0-9df4-4ad4-ea7a-80ac6d4c9ae6"
      },
      "outputs": [
        {
          "name": "stdout",
          "output_type": "stream",
          "text": [
            "[0, 1, 0, 0]\n"
          ]
        }
      ],
      "source": [
        "enc_bits = apply_mask_general(21-1, 21-1, img3_21x21_grid_inv, mask, UP8)[:4]\n",
        "print(enc_bits)\n",
        "# 0001\tNumeric encoding (10 bits per 3 digits)\n",
        "# 0010\tAlphanumeric encoding (11 bits per 2 characters)\n",
        "# 0100\tByte encoding (8 bits per character)\n",
        "# 1000\tKanji encoding (13 bits per character)\n",
        "# ..."
      ]
    },
    {
      "cell_type": "code",
      "execution_count": null,
      "metadata": {
        "colab": {
          "base_uri": "https://localhost:8080/"
        },
        "id": "qeyesPDLCGUx",
        "outputId": "0a13660a-748a-47b3-d6ca-8a20471f82e7"
      },
      "outputs": [
        {
          "name": "stdout",
          "output_type": "stream",
          "text": [
            "[0, 0, 0, 0, 0, 0, 0, 1] = 1 data symbols, each consisting of 8 bits\n"
          ]
        }
      ],
      "source": [
        "len_bits = apply_mask_general(21-3, 21-1, img3_21x21_grid_inv, mask, UP8)\n",
        "len_int = int(''.join([str(bit) for bit in len_bits]), 2)\n",
        "print(f'{len_bits} = {len_int} data symbols, each consisting of 8 bits')"
      ]
    },
    {
      "cell_type": "code",
      "execution_count": null,
      "metadata": {
        "id": "4ge-sjnxA9Eh"
      },
      "outputs": [],
      "source": [
        "block_starting_indices = [\n",
        "    [21-7,  21-1,  UP8],\n",
        "    [21-11, 21-1,  CCW8],\n",
        "    [21-10, 21-3,  DOWN8],\n",
        "    [21-6,  21-3,  DOWN8],\n",
        "    [21-2,  21-3,  CW8],\n",
        "    [21-3,  21-5,  UP8],\n",
        "    [21-7,  21-5,  UP8],\n",
        "    [21-11, 21-5,  CCW8],\n",
        "    [21-10, 21-7,  DOWN8],\n",
        "    [21-6,  21-7,  DOWN8],\n",
        "    [21-2,  21-7,  CW8],\n",
        "    [21-3,  21-9,  UP8],\n",
        "    [21-7,  21-9,  UP8],\n",
        "    [21-11, 21-9,  UP8],\n",
        "    [21-16, 21-9,  UP8],\n",
        "    [21-20, 21-9,  CCW8],\n",
        "    [21-19, 21-11, DOWN8],\n",
        "    [21-14, 21-11, DOWN4],  # Special 4-byte block, reserved for END (if exists!)\n",
        "    [21-12, 21-11, DOWN8],\n",
        "    [21-8,  21-11, DOWN8],\n",
        "    [21-4,  21-11, DOWN8],\n",
        "    [21-9,  21-13, UP8],\n",
        "    [21-12, 21-16, DOWN8],\n",
        "    [21-9,  21-18, UP8],\n",
        "    [21-12, 21-20, DOWN8],\n",
        "]"
      ]
    },
    {
      "cell_type": "code",
      "execution_count": null,
      "metadata": {
        "colab": {
          "base_uri": "https://localhost:8080/"
        },
        "id": "ef0EJbuXTUQV",
        "outputId": "ee756f82-8d13-423b-d239-04e538f8a0f9"
      },
      "outputs": [
        {
          "name": "stdout",
          "output_type": "stream",
          "text": [
            "01100001 (=097) = a\n"
          ]
        }
      ],
      "source": [
        "message_bits = []\n",
        "message_bits.extend(enc_bits)\n",
        "message_bits.extend(len_bits)\n",
        "# Let me re-format this for better readability :)\n",
        "# First, let's read the data bytes, starting from the very first byte after enc and len\n",
        "byte_index = 0\n",
        "for _ in range(len_int):\n",
        "    start_i, start_j, dir = block_starting_indices[byte_index]\n",
        "    bits = apply_mask_general(start_i, start_j, img3_21x21_grid_inv, mask, dir)\n",
        "    message_bits.extend(bits)\n",
        "    bit_string = ''.join([str(bit) for bit in bits])\n",
        "    alpha_char = chr(int(bit_string, 2))\n",
        "    print(f'{bit_string} (={int(bit_string, 2):03d}) = {alpha_char}')\n",
        "    byte_index += 1"
      ]
    },
    {
      "cell_type": "markdown",
      "metadata": {
        "id": "epCugUrcbfYX"
      },
      "source": [
        "You're probably gonna say \"is that it?\" and, yes, this QR code literally only contains the letter 'a'."
      ]
    },
    {
      "cell_type": "code",
      "execution_count": null,
      "metadata": {
        "colab": {
          "base_uri": "https://localhost:8080/"
        },
        "id": "cLQxR9XTbRSw",
        "outputId": "98718282-3533-4610-88dc-a51712383967"
      },
      "outputs": [
        {
          "name": "stdout",
          "output_type": "stream",
          "text": [
            "[0, 0, 0, 0, 1, 1, 1, 0]\n"
          ]
        }
      ],
      "source": [
        "# After finishing all the characters, the next 4 bits are expected to be '0000'\n",
        "start_i, start_j, dir = block_starting_indices[byte_index]\n",
        "bits = apply_mask_general(start_i, start_j, img3_21x21_grid_inv, mask, dir)\n",
        "message_bits.extend(bits)\n",
        "print(bits)\n",
        "byte_index += 1"
      ]
    },
    {
      "cell_type": "markdown",
      "metadata": {
        "id": "4ydmz2tDcSHu"
      },
      "source": [
        "Indeed, the first four bits are '0000'.. What do we do now?"
      ]
    },
    {
      "cell_type": "code",
      "execution_count": null,
      "metadata": {
        "colab": {
          "base_uri": "https://localhost:8080/"
        },
        "id": "ysBoak29b3t7",
        "outputId": "1de26771-9867-401e-e0e7-cfff226d9f33"
      },
      "outputs": [
        {
          "name": "stdout",
          "output_type": "stream",
          "text": [
            "11000001 (=193) = Á\n",
            "00011110 (=030) = \u001e\n",
            "11000001 (=193) = Á\n",
            "00011110 (=030) = \u001e\n",
            "11000001 (=193) = Á\n",
            "00011110 (=030) = \u001e\n",
            "11000001 (=193) = Á\n",
            "00011110 (=030) = \u001e\n",
            "11000001 (=193) = Á\n",
            "00011110 (=030) = \u001e\n",
            "11000001 (=193) = Á\n",
            "00011110 (=030) = \u001e\n",
            "11000001 (=193) = Á\n",
            "00011110 (=030) = \u001e\n",
            "11000001 (=193) = Á\n",
            "0001 (=001) = \u0001\n",
            "11011010 (=218) = Ú\n",
            "00101000 (=040) = (\n",
            "11110011 (=243) = ó\n",
            "11010100 (=212) = Ô\n",
            "01000010 (=066) = B\n",
            "01000111 (=071) = G\n",
            "10010110 (=150) = \n"
          ]
        }
      ],
      "source": [
        "# Let's see what the bytes that follow look like\n",
        "# There supposedly remain 25-2=23 bytes to be read\n",
        "for _ in range(23):\n",
        "    start_i, start_j, dir = block_starting_indices[byte_index]\n",
        "    bits = apply_mask_general(start_i, start_j, img3_21x21_grid_inv, mask, dir)\n",
        "    message_bits.extend(bits)\n",
        "    bit_string = ''.join([str(bit) for bit in bits])\n",
        "    alpha_char = chr(int(bit_string, 2))\n",
        "    print(f'{bit_string} (={int(bit_string, 2):03d}) = {alpha_char}')\n",
        "    byte_index += 1"
      ]
    },
    {
      "cell_type": "markdown",
      "metadata": {
        "id": "ZZdTWH2iddYj"
      },
      "source": [
        "This is interesting, the QR code filled the rest of the data bits with a pattern of 0s and 1s, I guess that is how it \"pads\" data when data is finished but it is not yet the time for the ECCs to come in. Okay. Cool. Whatever. Let's Reed-Solomon now please?"
      ]
    },
    {
      "cell_type": "code",
      "execution_count": null,
      "metadata": {
        "colab": {
          "base_uri": "https://localhost:8080/"
        },
        "id": "lrmKjx29dTEn",
        "outputId": "f493d8e0-4ebd-4bc5-da09-841d6b6d6765"
      },
      "outputs": [
        {
          "name": "stdout",
          "output_type": "stream",
          "text": [
            "This codec can correct up to 3 errors and 7 erasures independently\n",
            "Data in message = \"a\"\n",
            "Data should be... \"a\"\n"
          ]
        }
      ],
      "source": [
        "# For every 8 bits in the extracted message, convert to a byte\n",
        "message_bytes = [int(\"\".join(map(str, message_bits[i:i+8])), 2) for i in range(0, len(message_bits), 8)]\n",
        "\n",
        "# Create the Reed-Solomon Codec for 7 ECC symbols (again, this is L)\n",
        "rsc = rs.RSCodec(nsym=7)\n",
        "\n",
        "# Decode the bytes with the 7-ECC RS Codec\n",
        "message_decoded = rsc.decode(message_bytes)\n",
        "rsc.maxerrata(verbose=True)\n",
        "\n",
        "# In order to extract the actual data, need to convert back to bits\n",
        "# Then take as many bytes as indicated by the message length indicator\n",
        "# That is AFTER removing the first 12 bytes (of enc and len)\n",
        "data_bits = bin(int.from_bytes(message_decoded[0], byteorder='big'))[13:13+len_int*8]\n",
        "\n",
        "# Now convert back to bytes and print it lol\n",
        "data_bytes = int(data_bits, 2).to_bytes((len(data_bits)+7)//8, 'big')\n",
        "print(f'Data in message = \"{data_bytes.decode(encoding=\"iso-8859-1\")}\"')\n",
        "print(f'Data should be... \"a\"')"
      ]
    },
    {
      "cell_type": "markdown",
      "metadata": {
        "id": "m9EYE_PnkyXx"
      },
      "source": [
        "# Yalla one more habibi"
      ]
    },
    {
      "cell_type": "code",
      "execution_count": null,
      "metadata": {
        "colab": {
          "base_uri": "https://localhost:8080/",
          "height": 285
        },
        "id": "QCjTGtk_kzfp",
        "outputId": "1a9fb47a-d290-463e-85d3-69eca3c4eb91"
      },
      "outputs": [
        {
          "name": "stdout",
          "output_type": "stream",
          "text": [
            "(21, 21)\n"
          ]
        },
        {
          "data": {
            "image/png": "[encoded data removed]",
            "text/plain": [
              "<Figure size 300x300 with 1 Axes>"
            ]
          },
          "metadata": {},
          "output_type": "display_data"
        }
      ],
      "source": [
        "_, img4 = cv2.threshold(cv2.imread(\"01-Getting-started.png\", cv2.IMREAD_GRAYSCALE), 128, 255, cv2.THRESH_BINARY);\n",
        "\n",
        "start_row = -1\n",
        "start_col = -1\n",
        "end_row = -1\n",
        "end_col = -1\n",
        "\n",
        "for row_index, row in enumerate(img4):\n",
        "    for pixel in row:\n",
        "        if pixel != 255:\n",
        "            start_row = row_index\n",
        "            break\n",
        "    if start_row != -1:\n",
        "        break\n",
        "\n",
        "for row_index, row in enumerate(img4[::-1]):\n",
        "    for pixel in row:\n",
        "        if pixel != 255:\n",
        "            end_row = img4.shape[0] - row_index\n",
        "            break\n",
        "    if end_row != -1:\n",
        "        break\n",
        "\n",
        "for col_index, col in enumerate(cv2.transpose(img4)):\n",
        "    for pixel in col:\n",
        "        if pixel != 255:\n",
        "            start_col = col_index\n",
        "            break\n",
        "    if start_col != -1:\n",
        "        break\n",
        "\n",
        "for col_index, col in enumerate(cv2.transpose(img4)[::-1]):\n",
        "    for pixel in col:\n",
        "        if pixel != 255:\n",
        "            end_col = img4.shape[1] - col_index\n",
        "            break\n",
        "    if end_col != -1:\n",
        "        break\n",
        "\n",
        "img4_no_quiet_zone = img4[start_row:end_row, start_col:end_col]\n",
        "img4_21x21_grid = cv2.resize(img4_no_quiet_zone, (21, 21), interpolation=cv2.INTER_AREA) // 255\n",
        "\n",
        "fig = plt.figure(figsize=(3, 3));\n",
        "plt.xticks([], []);\n",
        "plt.yticks([], []);\n",
        "plt.imshow(img4_21x21_grid, cmap='gray');\n",
        "print(img4_21x21_grid.shape)"
      ]
    },
    {
      "cell_type": "code",
      "execution_count": null,
      "metadata": {
        "colab": {
          "base_uri": "https://localhost:8080/"
        },
        "id": "2rFh7NUTli6n",
        "outputId": "b2c85eb1-5748-47b7-927a-9777b354e51b"
      },
      "outputs": [
        {
          "name": "stdout",
          "output_type": "stream",
          "text": [
            "ECL = [1 1]\n",
            "MASK = [0 1 0]\n",
            "ENC = [0, 1, 0, 0]\n",
            "LEN = [0, 0, 0, 0, 1, 1, 0, 0] = 12 data symbols, each consisting of 8 bits\n"
          ]
        }
      ],
      "source": [
        "img4_21x21_grid_inv = 1 - img4_21x21_grid\n",
        "ecl = img4_21x21_grid_inv[8, 0:2]\n",
        "mask = img4_21x21_grid_inv[8, 2:5]\n",
        "enc_bits = apply_mask_general(21-1, 21-1, img4_21x21_grid_inv, mask, UP4)\n",
        "len_bits = apply_mask_general(21-3, 21-1, img4_21x21_grid_inv, mask, UP8)\n",
        "len_int = int(''.join([str(bit) for bit in len_bits]), 2)\n",
        "print(f'ECL = {ecl}\\nMASK = {mask}\\nENC = {enc_bits}\\nLEN = {len_bits} = {len_int} data symbols, each consisting of 8 bits')"
      ]
    },
    {
      "cell_type": "code",
      "execution_count": null,
      "metadata": {
        "colab": {
          "base_uri": "https://localhost:8080/"
        },
        "id": "TW7e7PQ8mCjG",
        "outputId": "e2a267df-cb63-4c5c-b6b3-d485d79d316e"
      },
      "outputs": [
        {
          "name": "stdout",
          "output_type": "stream",
          "text": [
            "00110000 (=048) = 0\n",
            "00110001 (=049) = 1\n",
            "00101101 (=045) = -\n",
            "01000111 (=071) = G\n",
            "01101111 (=111) = o\n",
            "01101111 (=111) = o\n",
            "01100100 (=100) = d\n",
            "00100000 (=032) =  \n",
            "01101010 (=106) = j\n",
            "01101111 (=111) = o\n",
            "01100010 (=098) = b\n",
            "00100001 (=033) = !\n",
            "00001110 (=END) -- the NULL TERMINATOR, followed by padding and/or ECC\n",
            "11000001 (=193) = Á\n",
            "00011110 (=030) = \u001e\n",
            "11000001 (=193) = Á\n",
            "00011110 (=030) = \u001e\n",
            "1100 (=012) = \f\n",
            "01000011 (=067) = C\n",
            "00100111 (=039) = '\n",
            "01011111 (=095) = _\n",
            "00111011 (=059) = ;\n",
            "11110011 (=243) = ó\n",
            "10010001 (=145) = \n",
            "10011000 (=152) = \n"
          ]
        }
      ],
      "source": [
        "message_bits = []\n",
        "message_bits.extend(enc_bits)\n",
        "message_bits.extend(len_bits)\n",
        "# First, let's read the data bytes, starting from the very first byte after enc and len\n",
        "byte_index = 0\n",
        "for _ in range(len_int):\n",
        "    start_i, start_j, dir = block_starting_indices[byte_index]\n",
        "    bits = apply_mask_general(start_i, start_j, img4_21x21_grid_inv, mask, dir)\n",
        "    message_bits.extend(bits)\n",
        "    bit_string = ''.join([str(bit) for bit in bits])\n",
        "    alpha_char = chr(int(bit_string, 2))\n",
        "    print(f'{bit_string} (={int(bit_string, 2):03d}) = {alpha_char}')\n",
        "    byte_index += 1\n",
        "# After finishing all the characters, the next 4 bits are expected to be '0000'\n",
        "start_i, start_j, dir = block_starting_indices[byte_index]\n",
        "bits = apply_mask_general(start_i, start_j, img4_21x21_grid_inv, mask, dir)\n",
        "message_bits.extend(bits)\n",
        "bit_string = ''.join([str(bit) for bit in bits])\n",
        "print(f'{bit_string} (=END) -- the NULL TERMINATOR, followed by padding and/or ECC')\n",
        "byte_index += 1\n",
        "# Let's see what the bytes that follow look like\n",
        "# There supposedly remain 25-len-1 bytes to be read\n",
        "for _ in range(25 - len_int - 1):\n",
        "    start_i, start_j, dir = block_starting_indices[byte_index]\n",
        "    bits = apply_mask_general(start_i, start_j, img4_21x21_grid_inv, mask, dir)\n",
        "    message_bits.extend(bits)\n",
        "    bit_string = ''.join([str(bit) for bit in bits])\n",
        "    alpha_char = chr(int(bit_string, 2))\n",
        "    print(f'{bit_string} (={int(bit_string, 2):03d}) = {alpha_char}')\n",
        "    byte_index += 1"
      ]
    },
    {
      "cell_type": "code",
      "execution_count": null,
      "metadata": {
        "colab": {
          "base_uri": "https://localhost:8080/"
        },
        "id": "jtPQnSAEqnvn",
        "outputId": "53cce3c8-15e2-4531-e757-e08c5f2a0a86"
      },
      "outputs": [
        {
          "name": "stdout",
          "output_type": "stream",
          "text": [
            "This codec can correct up to 3 errors and 7 erasures independently\n",
            "Data in message = \"01-Good job!\"\n",
            "Data should be... \"01-Good job!\"\n"
          ]
        }
      ],
      "source": [
        "# For every 8 bits in the extracted message, convert to a byte\n",
        "message_bytes = [int(\"\".join(map(str, message_bits[i:i+8])), 2) for i in range(0, len(message_bits), 8)]\n",
        "\n",
        "# Create the Reed-Solomon Codec for 7 ECC symbols (again, this is L)\n",
        "rsc = rs.RSCodec(nsym=7)\n",
        "\n",
        "# Decode the bytes with the 7-ECC RS Codec\n",
        "message_decoded = rsc.decode(message_bytes)\n",
        "rsc.maxerrata(verbose=True)\n",
        "\n",
        "# In order to extract the actual data, need to convert back to bits\n",
        "# Then take as many bytes as indicated by the message length indicator\n",
        "# That is AFTER removing the first 12 bytes (of enc and len)\n",
        "data_bits = bin(int.from_bytes(message_decoded[0], byteorder='big'))[13:13+len_int*8]\n",
        "\n",
        "# Now convert back to bytes and print it lol\n",
        "data_bytes = int(data_bits, 2).to_bytes((len(data_bits)+7)//8, 'big')\n",
        "print(f'Data in message = \"{data_bytes.decode(encoding=\"iso-8859-1\")}\"')\n",
        "print(f'Data should be... \"01-Good job!\"')"
      ]
    },
    {
      "cell_type": "markdown",
      "metadata": {
        "id": "HjqzsS5Xrs5L"
      },
      "source": [
        "Good job ***me***."
      ]
    }
  ],
  "metadata": {
    "colab": {
      "provenance": [],
      "toc_visible": true
    },
    "kernelspec": {
      "display_name": "Python 3",
      "name": "python3"
    },
    "language_info": {
      "name": "python"
    }
  },
  "nbformat": 4,
  "nbformat_minor": 0
}
