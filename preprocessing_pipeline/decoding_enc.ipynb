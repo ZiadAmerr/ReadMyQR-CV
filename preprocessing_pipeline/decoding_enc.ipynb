{
 "cells": [
  {
   "cell_type": "code",
   "execution_count": 4,
   "metadata": {},
   "outputs": [],
   "source": [
    "# from decoding import *\n",
    "import pickle\n",
    "import numpy as np\n",
    "import cv2\n",
    "import sys\n",
    "import os\n",
    "import matplotlib.pyplot as plt\n",
    "import reedsolo as rs\n",
    "import re\n",
    "\n",
    "from decoding import get_qr_metadata\n",
    "from consts import (\n",
    "    MASKS,\n",
    "    DIRECTION_OFFSETS,\n",
    "    UP4,\n",
    "    DOWN4,\n",
    "    UP8,\n",
    "    DOWN8,\n",
    "    CW8,\n",
    "    CCW8,\n",
    "    QR_READ_STEPS,\n",
    "    N_DIM,\n",
    ")"
   ]
  },
  {
   "cell_type": "code",
   "execution_count": 5,
   "metadata": {},
   "outputs": [
    {
     "data": {
      "image/png": "[encoded data removed]",
      "text/plain": [
       "<Figure size 640x480 with 1 Axes>"
      ]
     },
     "metadata": {},
     "output_type": "display_data"
    }
   ],
   "source": [
    "n_tc = 6\n",
    "debug = True\n",
    "\n",
    "images = pickle.load(\n",
    "    open(\"/Users/ziad/Desktop/Projects/CV/preprocessing_pipeline/read_images.pkl\", \"rb\")\n",
    ")\n",
    "image_name, image = images[n_tc]\n",
    "\n",
    "plt.imshow(image, cmap=\"gray\")\n",
    "\n",
    "plt.show()"
   ]
  },
  {
   "cell_type": "code",
   "execution_count": 6,
   "metadata": {},
   "outputs": [],
   "source": [
    "meta = get_qr_metadata(image, inverted=False)\n",
    "\n",
    "mask = meta[\"mask\"]"
   ]
  },
  {
   "cell_type": "code",
   "execution_count": 7,
   "metadata": {},
   "outputs": [
    {
     "data": {
      "text/plain": [
       "{'ec_level': [1, 1],\n",
       " 'mask': [1, 1, 1],\n",
       " 'fmt_ec': [0, 1, 0, 1, 0, 1, 0, 1, 0, 1],\n",
       " 'mask_str': '111'}"
      ]
     },
     "execution_count": 7,
     "metadata": {},
     "output_type": "execute_result"
    }
   ],
   "source": [
    "meta"
   ]
  },
  {
   "cell_type": "code",
   "execution_count": 8,
   "metadata": {},
   "outputs": [],
   "source": [
    "def apply_mask_general(\n",
    "    data_start_i, data_start_j, data, direction, inverted=False, debug=False, plot=False\n",
    "):\n",
    "    result = []\n",
    "\n",
    "    mask_str = get_qr_metadata(data, inverted=inverted)[\"mask_str\"]\n",
    "\n",
    "    offsets = DIRECTION_OFFSETS[direction]\n",
    "\n",
    "    row_offsets = offsets[\"row_offsets\"]\n",
    "    col_offsets = offsets[\"col_offsets\"]\n",
    "\n",
    "    if not inverted:\n",
    "        data = 1 - data\n",
    "\n",
    "    for i, j in zip(row_offsets, col_offsets):\n",
    "        x_idx = data_start_i + i\n",
    "        y_idx = data_start_j + j\n",
    "\n",
    "        if debug:\n",
    "            print(f\"({x_idx}, {y_idx}) -> {data[x_idx, y_idx]}\")\n",
    "\n",
    "        cell_bit = bool(data[x_idx, y_idx])\n",
    "        mask_bit = MASKS[mask_str](x_idx, y_idx)\n",
    "        # Modules corresponding to the dark areas of the mask are inverted.\n",
    "        result.append(int(not cell_bit if mask_bit else cell_bit))\n",
    "    if debug:\n",
    "        print(\"\\n\\n\\n\")\n",
    "\n",
    "    # show which bits were selected using the mask via matplotlib\n",
    "    if plot:\n",
    "        plt.imshow(1 - data, cmap=\"gray\")\n",
    "        for i, j in zip(row_offsets, col_offsets):\n",
    "            x_idx = data_start_i + i\n",
    "            y_idx = data_start_j + j\n",
    "            plt.scatter(y_idx, x_idx, color=\"red\")\n",
    "        plt.title(\"Scanning with mask: \" + mask_str)\n",
    "        plt.show()\n",
    "\n",
    "    return result[:4] if direction in [UP4, DOWN4] else result"
   ]
  },
  {
   "cell_type": "code",
   "execution_count": 9,
   "metadata": {},
   "outputs": [
    {
     "data": {
      "text/plain": [
       "[0, 0, 1, 0]"
      ]
     },
     "execution_count": 9,
     "metadata": {},
     "output_type": "execute_result"
    }
   ],
   "source": [
    "enc_bits = apply_mask_general(\n",
    "    len(image) - 1, len(image) - 1, image, UP4, inverted=False\n",
    ")\n",
    "\n",
    "enc_bits"
   ]
  },
  {
   "cell_type": "code",
   "execution_count": 10,
   "metadata": {},
   "outputs": [
    {
     "data": {
      "image/png": "[encoded data removed]",
      "text/plain": [
       "<Figure size 640x480 with 1 Axes>"
      ]
     },
     "metadata": {},
     "output_type": "display_data"
    },
    {
     "data": {
      "text/plain": [
       "[0, 0, 0, 0, 1, 0, 0, 0]"
      ]
     },
     "execution_count": 10,
     "metadata": {},
     "output_type": "execute_result"
    }
   ],
   "source": [
    "len_bits = apply_mask_general(\n",
    "    len(image) - 3, len(image) - 1, image, UP8, inverted=False, plot=True\n",
    ")\n",
    "\n",
    "len_bits"
   ]
  },
  {
   "cell_type": "code",
   "execution_count": 11,
   "metadata": {},
   "outputs": [],
   "source": [
    "def binary_to_alphanumeric(bin_str):\n",
    "    alphanumeric_chars = [\n",
    "        \"0\",\n",
    "        \"1\",\n",
    "        \"2\",\n",
    "        \"3\",\n",
    "        \"4\",\n",
    "        \"5\",\n",
    "        \"6\",\n",
    "        \"7\",\n",
    "        \"8\",\n",
    "        \"9\",\n",
    "        \"A\",\n",
    "        \"B\",\n",
    "        \"C\",\n",
    "        \"D\",\n",
    "        \"E\",\n",
    "        \"F\",\n",
    "        \"G\",\n",
    "        \"H\",\n",
    "        \"I\",\n",
    "        \"J\",\n",
    "        \"K\",\n",
    "        \"L\",\n",
    "        \"M\",\n",
    "        \"N\",\n",
    "        \"O\",\n",
    "        \"P\",\n",
    "        \"Q\",\n",
    "        \"R\",\n",
    "        \"S\",\n",
    "        \"T\",\n",
    "        \"U\",\n",
    "        \"V\",\n",
    "        \"W\",\n",
    "        \"X\",\n",
    "        \"Y\",\n",
    "        \"Z\",\n",
    "        \" \",\n",
    "        \"$\",\n",
    "        \"%\",\n",
    "        \"*\",\n",
    "        \"+\",\n",
    "        \"-\",\n",
    "        \".\",\n",
    "        \"/\",\n",
    "        \":\",\n",
    "    ]\n",
    "\n",
    "    # Ensure the input is an 11-bit binary string\n",
    "    if len(bin_str) == 11:\n",
    "        # Convert the 11-bit binary string to an integer\n",
    "        value = int(bin_str, 2)\n",
    "\n",
    "        # Calculate C1 and C2 using the formula V = 45 * C1 + C2\n",
    "        C1 = value // 45\n",
    "        C2 = value % 45\n",
    "\n",
    "        # Get the corresponding characters\n",
    "        char1 = alphanumeric_chars[C1]\n",
    "        char2 = alphanumeric_chars[C2]\n",
    "\n",
    "        return char1, char2\n",
    "\n",
    "    else:\n",
    "        # decode the last 6 bits\n",
    "        value = int(bin_str, 2)\n",
    "\n",
    "        char = alphanumeric_chars[value]\n",
    "\n",
    "        return char, None\n",
    "\n",
    "\n",
    "def extract_alphanum(data_bits):\n",
    "    # split each 11 bits into 2 6-bit numbers\n",
    "    data_chars = [data_bits[i : i + 11] for i in range(0, len(data_bits), 11)]\n",
    "\n",
    "    all_chars = []\n",
    "\n",
    "    all_chars = []\n",
    "    for data_char in data_chars[:-1]:\n",
    "        char1, char2 = binary_to_alphanumeric(data_char)\n",
    "        all_chars.append(char1)\n",
    "        all_chars.append(char2)\n",
    "\n",
    "    # decode the last 6 bits\n",
    "    char, _ = binary_to_alphanumeric(data_chars[-1])\n",
    "\n",
    "    all_chars.append(char)\n",
    "\n",
    "    return \"\".join(all_chars)"
   ]
  },
  {
   "cell_type": "code",
   "execution_count": 12,
   "metadata": {},
   "outputs": [],
   "source": [
    "def exec():\n",
    "    enc_bits = apply_mask_general(\n",
    "        len(image) - 1, len(image) - 1, image, UP4, inverted=False\n",
    "    )\n",
    "\n",
    "    len_bits[0] = 0\n",
    "    len_bits[1] = 0\n",
    "\n",
    "    len_ = int(\"\".join([str(bit) for bit in len_bits]), 2)\n",
    "\n",
    "    if debug:\n",
    "        print(\"Enc bits\", enc_bits)\n",
    "        print(\"Len bits\", len_bits, len_)\n",
    "\n",
    "    msg_bits = []\n",
    "    msg_bits.extend(enc_bits)\n",
    "    msg_bits.extend(len_bits)\n",
    "\n",
    "    chars = []\n",
    "\n",
    "    idx = 0\n",
    "\n",
    "    # read the first len_ blocks\n",
    "    for _ in range(min(len_, 18)):\n",
    "        start_i, start_j, direction = QR_READ_STEPS[idx]\n",
    "        bits = apply_mask_general(start_i, start_j, image, direction, inverted=False)\n",
    "        msg_bits.extend(bits)\n",
    "        bit_str = \"\".join([str(bit) for bit in bits])\n",
    "        # alpha_char = chr(int(bit_str, 2))\n",
    "        # chars.append(alpha_char)\n",
    "        if debug:\n",
    "            print(f\"{bit_str} (={int(bit_str, 2):03d})\")\n",
    "        idx += 1\n",
    "\n",
    "    # read the end block\n",
    "    start_i, start_j, direction = QR_READ_STEPS[idx]\n",
    "    bits = apply_mask_general(start_i, start_j, image, direction, inverted=False)\n",
    "    msg_bits.extend(bits)\n",
    "    idx += 1\n",
    "\n",
    "    # read the rest of the blocks\n",
    "    for _ in range(len(QR_READ_STEPS) - len_ - 1):\n",
    "        start_i, start_j, direction = QR_READ_STEPS[idx]\n",
    "        bits = apply_mask_general(start_i, start_j, image, direction, inverted=False)\n",
    "        bit_str = \"\".join([str(bit) for bit in bits])\n",
    "        # alpha_char = chr(int(bit_str, 2))\n",
    "        if debug:\n",
    "            print(f\"{bit_str} (={int(bit_str, 2):03d})\")\n",
    "\n",
    "        msg_bits.extend(bits)\n",
    "        idx += 1\n",
    "\n",
    "    bit_stream = \"\".join(str(b) for b in msg_bits)\n",
    "\n",
    "    if debug:\n",
    "        print(\"Msg bits: \", \"\".join(str(k) for k in msg_bits), end=\"\\t\")\n",
    "\n",
    "    # print(\"\".join(chars))\n",
    "    enc_str = \"\".join([str(bit) for bit in enc_bits])\n",
    "    if debug:\n",
    "        print(\"ENC_STR: \", enc_str)\n",
    "    if enc_str == \"0100\":\n",
    "        enc_type = \"byte\"\n",
    "    elif enc_str == \"0010\":\n",
    "        enc_type = \"alphanum\"\n",
    "    else:\n",
    "        raise ValueError(f\"Unsupported encoding type: {enc_str}\")\n",
    "\n",
    "    if enc_type == \"alphanum\":\n",
    "        data_bits = bit_stream[13:]\n",
    "\n",
    "        message = extract_alphanum(data_bits[: len_ * 11 + 6])\n",
    "\n",
    "        print(f\"Data in message = {message}\")\n",
    "\n",
    "        return\n",
    "\n",
    "    message_bytes = [\n",
    "        int(\"\".join(map(str, msg_bits[i : i + 8])), 2)\n",
    "        for i in range(0, len(msg_bits), 8)\n",
    "    ]\n",
    "\n",
    "    if debug:\n",
    "        print(\"Message bytes\", message_bytes)\n",
    "\n",
    "    # Create the Reed-Solomon Codec for 7 ECC symbols (again, this is L)\n",
    "    rsc = rs.RSCodec(nsym=7)\n",
    "\n",
    "    # Decode the bytes with the 7-ECC RS Codec\n",
    "    # find n errors\n",
    "    try:\n",
    "        message_decoded = rsc.decode(message_bytes)\n",
    "        rsc.maxerrata(verbose=False)\n",
    "\n",
    "        # In order to extract the actual data, need to convert back to bits\n",
    "        # Then take as many bytes as indicated by the message length indicator\n",
    "        # That is AFTER removing the first 12 bytes (of enc and len)\n",
    "        data_bits = bin(int.from_bytes(message_decoded[0], byteorder=\"big\"))[\n",
    "            13 : 13 + len_ * 8\n",
    "        ]\n",
    "\n",
    "        # Now convert back to bytes and print it lol\n",
    "        data_bytes = int(data_bits, 2).to_bytes((len(data_bits) + 7) // 8, \"big\")\n",
    "        print(f'Data in message = \"{data_bytes.decode(encoding=\"iso-8859-1\")}\"')\n",
    "    except rs.ReedSolomonError as e:\n",
    "        msg_str = \"\".join(chars)\n",
    "\n",
    "        msg_removed_illegal_chars = re.sub(r\"[^\\x00-\\x7F]\", \"\", msg_str)\n",
    "\n",
    "        msg_raw_new_lines_removed = re.sub(r\"[\\r\\n]\", \"\", msg_removed_illegal_chars)\n",
    "\n",
    "        print(f\"Error decoding message: {e}, message = {msg_raw_new_lines_removed}\")"
   ]
  },
  {
   "cell_type": "code",
   "execution_count": 13,
   "metadata": {},
   "outputs": [],
   "source": [
    "debug = False"
   ]
  },
  {
   "cell_type": "code",
   "execution_count": 11,
   "metadata": {},
   "outputs": [
    {
     "name": "stdout",
     "output_type": "stream",
     "text": [
      "Data in message = THE MIGHTY FINGER\n"
     ]
    }
   ],
   "source": [
    "exec()"
   ]
  },
  {
   "cell_type": "code",
   "execution_count": 14,
   "metadata": {},
   "outputs": [],
   "source": [
    "def extract_alphanum(data_bits):\n",
    "    # split each 11 bits into 2 6-bit numbers\n",
    "    data_chars = [data_bits[i : i + 11] for i in range(0, len(data_bits), 11)]\n",
    "\n",
    "    all_chars = []\n",
    "    for i, char in enumerate(data_chars):\n",
    "        if i == len(data_chars) - 1:\n",
    "            char1, _ = binary_to_alphanumeric(char)\n",
    "            all_chars.append(char1)\n",
    "        else:\n",
    "            char1, char2 = binary_to_alphanumeric(char)\n",
    "            all_chars.append(char1)\n",
    "            all_chars.append(char2)\n",
    "\n",
    "    return \"\".join(all_chars)"
   ]
  },
  {
   "cell_type": "code",
   "execution_count": 15,
   "metadata": {},
   "outputs": [
    {
     "ename": "IndexError",
     "evalue": "list index out of range",
     "output_type": "error",
     "traceback": [
      "\u001b[0;31m---------------------------------------------------------------------------\u001b[0m",
      "\u001b[0;31mIndexError\u001b[0m                                Traceback (most recent call last)",
      "Cell \u001b[0;32mIn[15], line 13\u001b[0m\n\u001b[1;32m     11\u001b[0m all_chars \u001b[38;5;241m=\u001b[39m []\n\u001b[1;32m     12\u001b[0m \u001b[38;5;28;01mfor\u001b[39;00m data_char \u001b[38;5;129;01min\u001b[39;00m data_chars[:]:\n\u001b[0;32m---> 13\u001b[0m     char1, char2 \u001b[38;5;241m=\u001b[39m \u001b[43mbinary_to_alphanumeric\u001b[49m\u001b[43m(\u001b[49m\u001b[43mdata_char\u001b[49m\u001b[43m)\u001b[49m\n\u001b[1;32m     14\u001b[0m     all_chars\u001b[38;5;241m.\u001b[39mappend(char1)\n\u001b[1;32m     15\u001b[0m     \u001b[38;5;28;01mif\u001b[39;00m char2:\n",
      "Cell \u001b[0;32mIn[11], line 30\u001b[0m, in \u001b[0;36mbinary_to_alphanumeric\u001b[0;34m(bin_str)\u001b[0m\n\u001b[1;32m     26\u001b[0m \u001b[38;5;28;01melse\u001b[39;00m:\n\u001b[1;32m     27\u001b[0m     \u001b[38;5;66;03m# decode the last 6 bits\u001b[39;00m\n\u001b[1;32m     28\u001b[0m     value \u001b[38;5;241m=\u001b[39m \u001b[38;5;28mint\u001b[39m(bin_str, \u001b[38;5;241m2\u001b[39m)\n\u001b[0;32m---> 30\u001b[0m     char \u001b[38;5;241m=\u001b[39m \u001b[43malphanumeric_chars\u001b[49m\u001b[43m[\u001b[49m\u001b[43mvalue\u001b[49m\u001b[43m]\u001b[49m\n\u001b[1;32m     32\u001b[0m     \u001b[38;5;28;01mreturn\u001b[39;00m char, \u001b[38;5;28;01mNone\u001b[39;00m\n",
      "\u001b[0;31mIndexError\u001b[0m: list index out of range"
     ]
    }
   ],
   "source": [
    "x = \"0010000010001101001010100101001101001111110000010111000011010011101111001100011011010000010101101111001101100000111011000001000111101100000100011110110000100111110011000011111100111111000001011101011000000000\"\n",
    "y = \"0010000010001101001010100101001101001111110000010111000011010011101111001100011011010000010101101111001101100000111011000001000111101100000100011110110000100111110011000011111100111111000001011101011000000000\"\n",
    "z = \"0010000010001101001010100101001101001111110000010111000011010011101111001100011011010000010101101111001101100000111011000001000111101100000100011110110000100111110011000011111100111111000001011101011000000000\"\n",
    "l = \"1010010101001010011010011111100000101110000110100111011110011000\"\n",
    "gt = \"101001010100101001101001111110000010111000011010011101111001100011011010000010101101111001101100000111011000001000111101100000100011110110000100111110011000011111100111111000001011101011000000000\"\n",
    "data_bits = l\n",
    "\n",
    "# get chunks of 11 bits\n",
    "data_chars = [data_bits[i : i + 11] for i in range(0, len(data_bits), 11)]\n",
    "\n",
    "all_chars = []\n",
    "for data_char in data_chars[:]:\n",
    "    char1, char2 = binary_to_alphanumeric(data_char)\n",
    "    all_chars.append(char1)\n",
    "    if char2:\n",
    "        all_chars.append(char2)\n",
    "\n",
    "message = \"\".join(all_chars)\n",
    "\n",
    "print(message)\n",
    "\n",
    "# all_chars = []\n",
    "# for i, char in enumerate(data_chars):\n",
    "#     if i == len(data_chars) - 1:\n",
    "#         char1, _ = binary_to_alphanumeric(char)\n",
    "#         all_chars.append(char1)\n",
    "#     else:\n",
    "#         char1, char2 = binary_to_alphanumeric(char)\n",
    "#         all_chars.append(char1)\n",
    "#         all_chars.append(char2)\n",
    "\n",
    "# print(\n",
    "#     f'Data in message = \"{\"\".join(all_chars)}\"'\n",
    "# )"
   ]
  },
  {
   "cell_type": "code",
   "execution_count": 16,
   "metadata": {},
   "outputs": [
    {
     "data": {
      "text/plain": [
       "64"
      ]
     },
     "execution_count": 16,
     "metadata": {},
     "output_type": "execute_result"
    }
   ],
   "source": [
    "len(l)"
   ]
  },
  {
   "cell_type": "code",
   "execution_count": 14,
   "metadata": {},
   "outputs": [
    {
     "data": {
      "text/plain": [
       "194.45454545454547"
      ]
     },
     "execution_count": 14,
     "metadata": {},
     "output_type": "execute_result"
    }
   ],
   "source": [
    "len(gt) - 6 / 11"
   ]
  },
  {
   "cell_type": "code",
   "execution_count": 15,
   "metadata": {},
   "outputs": [
    {
     "data": {
      "text/plain": [
       "13"
      ]
     },
     "execution_count": 15,
     "metadata": {},
     "output_type": "execute_result"
    }
   ],
   "source": [
    "x = \"0010000010001\"\n",
    "len(x)"
   ]
  },
  {
   "cell_type": "code",
   "execution_count": 16,
   "metadata": {},
   "outputs": [
    {
     "ename": "NameError",
     "evalue": "name 'bit_stream' is not defined",
     "output_type": "error",
     "traceback": [
      "\u001b[0;31m---------------------------------------------------------------------------\u001b[0m",
      "\u001b[0;31mNameError\u001b[0m                                 Traceback (most recent call last)",
      "Cell \u001b[0;32mIn[16], line 1\u001b[0m\n\u001b[0;32m----> 1\u001b[0m enc_mode \u001b[38;5;241m=\u001b[39m \u001b[43mbit_stream\u001b[49m[:\u001b[38;5;241m4\u001b[39m]\n\u001b[1;32m      2\u001b[0m len_bits \u001b[38;5;241m=\u001b[39m bit_stream[\u001b[38;5;241m4\u001b[39m:\u001b[38;5;241m12\u001b[39m]\n\u001b[1;32m      3\u001b[0m len_ \u001b[38;5;241m=\u001b[39m \u001b[38;5;28mint\u001b[39m(len_bits, \u001b[38;5;241m2\u001b[39m)\n",
      "\u001b[0;31mNameError\u001b[0m: name 'bit_stream' is not defined"
     ]
    }
   ],
   "source": [
    "enc_mode = bit_stream[:4]\n",
    "len_bits = bit_stream[4:12]\n",
    "len_ = int(len_bits, 2)\n",
    "\n",
    "print(\"LEN\", len_)\n",
    "data_bits = bit_stream[12:]\n",
    "\n",
    "if enc_mode == \"0100\":\n",
    "    print(\"Byte encoding mode\")\n",
    "\n",
    "    len_ = int(len_bits, 2)\n",
    "\n",
    "    data_bytes = int(data_bits, 2).to_bytes((len(data_bits) + 7) // 8, \"big\")\n",
    "\n",
    "    print(f\"Data bytes: {data_bytes}\")\n",
    "elif enc_mode == \"0010\":\n",
    "    print(\"Alphanumeric encoding mode\")\n",
    "\n",
    "    len_ = int(len_bits, 2)\n",
    "\n",
    "    # split each 11 bits into 2 6-bit numbers\n",
    "    data_chars = [data_bits[i : i + 11] for i in range(0, len(data_bits), 11)]\n",
    "\n",
    "    # convert each 11-bit number to two 6-bit numbers\n",
    "    data_nums = [int(data_char[:6], 2) for data_char in data_chars]\n",
    "\n",
    "    # convert each 6-bit number to the corresponding alphanumeric character\n",
    "    data_chars = [chr(num) for num in data_nums]\n",
    "\n",
    "    # join the characters to form the data string\n",
    "    data_str = \"\".join(data_chars)\n",
    "\n",
    "    print(f\"Data string: {data_str}\")"
   ]
  },
  {
   "cell_type": "code",
   "execution_count": null,
   "metadata": {},
   "outputs": [
    {
     "name": "stdout",
     "output_type": "stream",
     "text": [
      "Data string: ['01010011010', '01111110000', '01011100001', '10100111011', '11001100011', '01101000001', '01011011110', '01101100000', '11101100000', '10001111011', '00000100011', '11011000010', '01111100110', '00011111100', '11111100000', '10111010110', '00000000']\n"
     ]
    }
   ],
   "source": [
    "all_chars = []\n",
    "\n",
    "len_ = int(len_bits, 2)\n",
    "\n",
    "# skip the first 12 bits\n",
    "data_bits = data_bits[12:]\n",
    "\n",
    "# split each 11 bits into 2 6-bit numbers\n",
    "data_chars = [data_bits[i : i + 11] for i in range(0, len(data_bits), 11)]\n",
    "\n",
    "# convert each 11-bit number to two 6-bit numbers\n",
    "# for entry in data_chars:\n",
    "\n",
    "\n",
    "# # convert each 11-bit number to two 6-bit numbers\n",
    "# data_nums = [int(data_char[:6], 2) for data_char in data_chars]\n",
    "\n",
    "# # convert each 6-bit number to the corresponding alphanumeric character\n",
    "# data_chars = [chr(num) for num in data_nums]\n",
    "\n",
    "# # join the characters to form the data string\n",
    "# data_str = \"\".join(data_chars)\n",
    "\n",
    "print(f\"Data string: {data_chars}\")"
   ]
  },
  {
   "cell_type": "code",
   "execution_count": null,
   "metadata": {},
   "outputs": [
    {
     "data": {
      "text/plain": [
       "'0101001101001111110000010111000011010011101111001100011011010000010101101111001101100000111011000001000111101100000100011110110000100111110011000011111100111111000001011101011000000000'"
      ]
     },
     "execution_count": 31,
     "metadata": {},
     "output_type": "execute_result"
    }
   ],
   "source": [
    "vals = [\n",
    "    \"01010011010\",\n",
    "    \"01111110000\",\n",
    "    \"01011100001\",\n",
    "    \"10100111011\",\n",
    "    \"11001100011\",\n",
    "    \"01101000001\",\n",
    "    \"01011011110\",\n",
    "    \"01101100000\",\n",
    "    \"11101100000\",\n",
    "    \"10001111011\",\n",
    "    \"00000100011\",\n",
    "    \"11011000010\",\n",
    "    \"01111100110\",\n",
    "    \"00011111100\",\n",
    "    \"11111100000\",\n",
    "    \"10111010110\",\n",
    "    \"00000000\",\n",
    "]\n",
    "\n",
    "\"\".join(vals)"
   ]
  },
  {
   "cell_type": "code",
   "execution_count": null,
   "metadata": {},
   "outputs": [
    {
     "name": "stdout",
     "output_type": "stream",
     "text": [
      "E MIGHTY FINGEJ9-/PM0Z%KM85R: X9\n"
     ]
    }
   ],
   "source": [
    "all_chars = []\n",
    "for data_char in vals[:-1]:\n",
    "    char1, char2 = binary_to_alphanumeric(data_char)\n",
    "    all_chars.append(char1)\n",
    "    all_chars.append(char2)\n",
    "\n",
    "message = \"\".join(all_chars)\n",
    "\n",
    "print(message)"
   ]
  },
  {
   "cell_type": "code",
   "execution_count": null,
   "metadata": {},
   "outputs": [
    {
     "data": {
      "text/plain": [
       "'$K7IB988$S+-W0U-9RK:CXN6-:B42 MIGR'"
      ]
     },
     "execution_count": 28,
     "metadata": {},
     "output_type": "execute_result"
    }
   ],
   "source": [
    "\"\".join(all_chars)"
   ]
  },
  {
   "cell_type": "code",
   "execution_count": null,
   "metadata": {},
   "outputs": [],
   "source": []
  }
 ],
 "metadata": {
  "kernelspec": {
   "display_name": "Python 3 (ipykernel)",
   "language": "python",
   "name": "python3"
  },
  "language_info": {
   "codemirror_mode": {
    "name": "ipython",
    "version": 3
   },
   "file_extension": ".py",
   "mimetype": "text/x-python",
   "name": "python",
   "nbconvert_exporter": "python",
   "pygments_lexer": "ipython3",
   "version": "3.9.6"
  }
 },
 "nbformat": 4,
 "nbformat_minor": 2
}
