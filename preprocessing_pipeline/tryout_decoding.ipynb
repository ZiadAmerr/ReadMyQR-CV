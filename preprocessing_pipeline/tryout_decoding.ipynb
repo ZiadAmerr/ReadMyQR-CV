{
 "cells": [
  {
   "cell_type": "code",
   "execution_count": 1,
   "metadata": {},
   "outputs": [],
   "source": [
    "import matplotlib.pyplot as plt\n",
    "import numpy as np\n",
    "import pickle\n",
    "import reedsolo as rs"
   ]
  },
  {
   "cell_type": "code",
   "execution_count": 2,
   "metadata": {},
   "outputs": [],
   "source": [
    "def plot_all_images(images):\n",
    "    fig, axes = plt.subplots(3, 6, figsize=(20, 8))\n",
    "    for i, (filename, image) in enumerate(images):\n",
    "        row = i // 6\n",
    "        col = i % 6\n",
    "        axes[row, col].axis(\"off\")\n",
    "        axes[row, col].imshow(image, cmap=\"gray\")\n",
    "        axes[row, col].set_title(filename, fontsize=9)\n",
    "    plt.tight_layout()\n",
    "    plt.show()\n",
    "\n",
    "\n",
    "def plot_image(image):\n",
    "    plt.imshow(image, cmap=\"gray\")\n",
    "    plt.axis(\"off\")\n",
    "    plt.show()"
   ]
  },
  {
   "cell_type": "code",
   "execution_count": 3,
   "metadata": {},
   "outputs": [],
   "source": [
    "images = pickle.load(open(\"read_images.pkl\", \"rb\"))"
   ]
  },
  {
   "cell_type": "code",
   "execution_count": 4,
   "metadata": {},
   "outputs": [],
   "source": [
    "# plot_all_images(images)"
   ]
  },
  {
   "cell_type": "code",
   "execution_count": 12,
   "metadata": {},
   "outputs": [
    {
     "data": {
      "image/png": "[encoded data removed]",
      "text/plain": [
       "<Figure size 640x480 with 1 Axes>"
      ]
     },
     "metadata": {},
     "output_type": "display_data"
    }
   ],
   "source": [
    "image = images[4][1]\n",
    "\n",
    "plot_image(image)"
   ]
  },
  {
   "cell_type": "code",
   "execution_count": 6,
   "metadata": {},
   "outputs": [],
   "source": [
    "# image"
   ]
  },
  {
   "cell_type": "code",
   "execution_count": 7,
   "metadata": {},
   "outputs": [],
   "source": [
    "std_numeric_img = np.where(image == 0, 1, 0)"
   ]
  },
  {
   "cell_type": "code",
   "execution_count": 8,
   "metadata": {},
   "outputs": [
    {
     "data": {
      "text/plain": [
       "array([[1, 1, 1, 1, 0, 0, 0, 1, 1, 0, 1, 1, 1, 0, 0, 0, 0, 1, 1, 1, 1],\n",
       "       [1, 1, 1, 0, 0, 1, 1, 1, 1, 0, 0, 0, 1, 0, 1, 0, 0, 0, 1, 1, 1],\n",
       "       [1, 1, 1, 0, 0, 0, 1, 0, 0, 1, 1, 0, 1, 0, 1, 1, 0, 0, 1, 1, 1],\n",
       "       [1, 0, 0, 0, 0, 0, 0, 0, 0, 1, 0, 1, 1, 1, 1, 1, 0, 0, 0, 0, 1],\n",
       "       [0, 0, 0, 0, 0, 1, 1, 0, 1, 1, 1, 1, 0, 1, 0, 1, 0, 0, 0, 0, 0],\n",
       "       [1, 1, 0, 1, 1, 1, 1, 1, 1, 0, 0, 1, 0, 1, 0, 1, 1, 0, 0, 1, 0],\n",
       "       [0, 1, 1, 0, 1, 1, 0, 0, 1, 0, 0, 1, 0, 1, 1, 0, 1, 1, 0, 1, 1],\n",
       "       [1, 1, 1, 1, 0, 0, 0, 1, 1, 0, 1, 1, 0, 1, 0, 0, 0, 0, 0, 0, 0],\n",
       "       [1, 1, 1, 0, 0, 0, 0, 1, 0, 0, 0, 0, 0, 1, 0, 1, 1, 0, 1, 1, 1],\n",
       "       [0, 1, 0, 0, 1, 0, 0, 1, 1, 1, 0, 1, 1, 1, 0, 1, 0, 1, 1, 0, 1],\n",
       "       [0, 0, 0, 1, 0, 1, 1, 1, 1, 0, 0, 1, 0, 1, 0, 1, 1, 0, 0, 0, 1],\n",
       "       [1, 0, 0, 1, 1, 0, 1, 0, 1, 1, 1, 0, 0, 1, 0, 0, 0, 0, 1, 0, 1],\n",
       "       [1, 0, 0, 0, 0, 1, 1, 1, 1, 1, 1, 1, 1, 1, 0, 0, 1, 0, 0, 0, 1],\n",
       "       [1, 1, 0, 0, 0, 0, 0, 1, 1, 0, 1, 1, 0, 1, 0, 0, 1, 1, 0, 0, 1],\n",
       "       [1, 1, 1, 1, 1, 1, 1, 1, 1, 1, 0, 0, 0, 0, 1, 0, 1, 0, 1, 1, 1],\n",
       "       [1, 0, 0, 1, 0, 1, 0, 1, 0, 1, 1, 1, 1, 1, 0, 1, 1, 1, 1, 0, 1],\n",
       "       [0, 0, 0, 0, 0, 1, 1, 0, 0, 0, 0, 1, 0, 1, 1, 1, 0, 0, 1, 0, 0],\n",
       "       [1, 0, 0, 0, 0, 1, 0, 0, 0, 0, 1, 1, 1, 1, 0, 1, 0, 0, 0, 0, 0],\n",
       "       [1, 1, 1, 0, 0, 0, 1, 1, 1, 0, 1, 0, 0, 1, 0, 0, 0, 1, 0, 0, 0],\n",
       "       [1, 1, 1, 0, 0, 1, 1, 1, 1, 1, 1, 0, 0, 0, 0, 1, 0, 1, 0, 1, 1],\n",
       "       [1, 1, 1, 1, 0, 1, 0, 1, 0, 1, 1, 0, 0, 1, 1, 1, 0, 0, 0, 0, 1]])"
      ]
     },
     "execution_count": 8,
     "metadata": {},
     "output_type": "execute_result"
    }
   ],
   "source": [
    "std_numeric_img"
   ]
  },
  {
   "cell_type": "code",
   "execution_count": 9,
   "metadata": {},
   "outputs": [
    {
     "ename": "AssertionError",
     "evalue": "Error correction level not consistent",
     "output_type": "error",
     "traceback": [
      "\u001b[0;31m---------------------------------------------------------------------------\u001b[0m",
      "\u001b[0;31mAssertionError\u001b[0m                            Traceback (most recent call last)",
      "Cell \u001b[0;32mIn[9], line 4\u001b[0m\n\u001b[1;32m      1\u001b[0m error_correction_level \u001b[38;5;241m=\u001b[39m std_numeric_img[\u001b[38;5;241m8\u001b[39m, \u001b[38;5;241m0\u001b[39m:\u001b[38;5;241m2\u001b[39m]\n\u001b[1;32m      2\u001b[0m _error_correction_level \u001b[38;5;241m=\u001b[39m std_numeric_img[\u001b[38;5;241m-\u001b[39m\u001b[38;5;241m2\u001b[39m:, \u001b[38;5;241m8\u001b[39m][::\u001b[38;5;241m-\u001b[39m\u001b[38;5;241m1\u001b[39m]\n\u001b[0;32m----> 4\u001b[0m \u001b[38;5;28;01massert\u001b[39;00m np\u001b[38;5;241m.\u001b[39mall(error_correction_level \u001b[38;5;241m==\u001b[39m _error_correction_level), \u001b[38;5;124m\"\u001b[39m\u001b[38;5;124mError correction level not consistent\u001b[39m\u001b[38;5;124m\"\u001b[39m\n\u001b[1;32m      6\u001b[0m error_correction_level \u001b[38;5;241m=\u001b[39m error_correction_level\u001b[38;5;241m.\u001b[39mtolist()\n\u001b[1;32m      8\u001b[0m error_correction_level\n",
      "\u001b[0;31mAssertionError\u001b[0m: Error correction level not consistent"
     ]
    }
   ],
   "source": [
    "error_correction_level = std_numeric_img[8, 0:2]\n",
    "_error_correction_level = std_numeric_img[-2:, 8][::-1]\n",
    "\n",
    "assert np.all(\n",
    "    error_correction_level == _error_correction_level\n",
    "), \"Error correction level not consistent\"\n",
    "\n",
    "error_correction_level = error_correction_level.tolist()\n",
    "\n",
    "error_correction_level"
   ]
  },
  {
   "cell_type": "code",
   "execution_count": null,
   "metadata": {},
   "outputs": [
    {
     "data": {
      "text/plain": [
       "'110'"
      ]
     },
     "execution_count": 10,
     "metadata": {},
     "output_type": "execute_result"
    }
   ],
   "source": [
    "mask_pattern = std_numeric_img[8, 2:5]\n",
    "_mask_pattern = std_numeric_img[-5:-2, 8][::-1]\n",
    "\n",
    "assert np.all(mask_pattern == _mask_pattern), \"Mask pattern not consistent\"\n",
    "\n",
    "mask_pattern = mask_pattern.tolist()\n",
    "\n",
    "mask_str = \"\".join([str(x) for x in mask_pattern])\n",
    "\n",
    "mask_str"
   ]
  },
  {
   "cell_type": "code",
   "execution_count": null,
   "metadata": {},
   "outputs": [
    {
     "data": {
      "text/plain": [
       "10"
      ]
     },
     "execution_count": 11,
     "metadata": {},
     "output_type": "execute_result"
    }
   ],
   "source": [
    "format_error_correction = []\n",
    "format_error_correction.append(std_numeric_img[8, 5])\n",
    "format_error_correction.append(std_numeric_img[8, 7])\n",
    "format_error_correction.extend(std_numeric_img[0:6, 8])\n",
    "format_error_correction.extend(std_numeric_img[7:9, 8])\n",
    "len(format_error_correction)"
   ]
  },
  {
   "cell_type": "code",
   "execution_count": null,
   "metadata": {},
   "outputs": [
    {
     "data": {
      "text/plain": [
       "([1, 1], [1, 1, 0], [0, 0, 1, 0, 1, 1, 1, 0, 0, 1])"
      ]
     },
     "execution_count": 12,
     "metadata": {},
     "output_type": "execute_result"
    }
   ],
   "source": [
    "error_correction_level, mask_pattern, format_error_correction"
   ]
  },
  {
   "cell_type": "code",
   "execution_count": null,
   "metadata": {},
   "outputs": [],
   "source": [
    "error_correction_level[0] ^= 1\n",
    "mask_pattern[0] ^= 1\n",
    "mask_pattern[2] ^= 1\n",
    "format_error_correction[5] ^= 1\n",
    "format_error_correction[8] ^= 1"
   ]
  },
  {
   "cell_type": "code",
   "execution_count": null,
   "metadata": {},
   "outputs": [],
   "source": [
    "MASKS = {\n",
    "    \"000\": lambda i, j: (i * j) % 2 + (i * j) % 3 == 0,\n",
    "    \"001\": lambda i, j: (i / 2 + j / 3) % 2 == 0,\n",
    "    \"010\": lambda i, j: ((i * j) % 3 + i + j) % 2 == 0,\n",
    "    \"011\": lambda i, j: ((i * j) % 3 + i * j) % 2 == 0,\n",
    "    \"100\": lambda i, j: i % 2 == 0,\n",
    "    \"101\": lambda i, j: (i + j) % 2 == 0,\n",
    "    \"110\": lambda i, j: (i + j) % 3 == 0,\n",
    "    \"111\": lambda i, j: j % 3 == 0,\n",
    "}"
   ]
  },
  {
   "cell_type": "code",
   "execution_count": null,
   "metadata": {},
   "outputs": [],
   "source": [
    "# Before we proceed, let's write a function for masking to make our lives easier\n",
    "UP, UP_ENC, DOWN, CW, CCW = range(5)  # A rather old-fashioned pythonic \"Enum\"\n",
    "\n",
    "\n",
    "def apply_mask(data_start_i, data_start_j, direction, image):\n",
    "    \"\"\"\n",
    "    data_start_i/j represent the first cell's coords in its respective direction\n",
    "    direction is the masking direction, up(-enc)/down/clockwise/anti-clockwise\n",
    "    \"\"\"\n",
    "    result = []\n",
    "    row_offsets = []\n",
    "    col_offsets = []\n",
    "    if direction in [UP, UP_ENC]:\n",
    "        row_offsets = [0, 0, -1, -1, -2, -2, -3, -3]\n",
    "        col_offsets = [0, -1, 0, -1, 0, -1, 0, -1]\n",
    "    if direction == DOWN:\n",
    "        row_offsets = [0, 0, 1, 1, 2, 2, 3, 3]\n",
    "        col_offsets = [0, -1, 0, -1, 0, -1, 0, -1]\n",
    "    if direction == CW:\n",
    "        row_offsets = [0, 0, 1, 1, 1, 1, 0, 0]\n",
    "        col_offsets = [0, -1, 0, -1, -2, -3, -2, -3]\n",
    "    if direction == CCW:\n",
    "        row_offsets = [0, 0, -1, -1, -1, -1, 0, 0]\n",
    "        col_offsets = [0, -1, 0, -1, -2, -3, -2, -3]\n",
    "\n",
    "    for i, j in zip(row_offsets, col_offsets):\n",
    "        cell = image[data_start_i + i, data_start_j + j]\n",
    "        result.append(\n",
    "            int(\n",
    "                cell\n",
    "                if MASKS[mask_str](data_start_i + i, data_start_j + j)\n",
    "                else not cell\n",
    "            )\n",
    "        )\n",
    "\n",
    "    return result[:4] if direction == UP_ENC else result"
   ]
  },
  {
   "cell_type": "code",
   "execution_count": null,
   "metadata": {},
   "outputs": [],
   "source": [
    "grid_cells_num = len(image)"
   ]
  },
  {
   "cell_type": "code",
   "execution_count": null,
   "metadata": {},
   "outputs": [],
   "source": [
    "def get_enc_and_len_bits(image):\n",
    "    enc_bits = apply_mask(grid_cells_num - 1, grid_cells_num - 1, UP_ENC, image)\n",
    "    len_bits = apply_mask(grid_cells_num - 3, grid_cells_num - 1, UP, image)\n",
    "\n",
    "    return enc_bits, len_bits"
   ]
  },
  {
   "cell_type": "code",
   "execution_count": null,
   "metadata": {},
   "outputs": [
    {
     "name": "stdout",
     "output_type": "stream",
     "text": [
      "[0, 1, 0, 0] = Byte encoding (8 bits per character)\n",
      "[0, 1, 0, 0, 0, 0, 0, 1] = 65 data symbols, each consisting of 8 bits\n"
     ]
    }
   ],
   "source": [
    "enc_bits, len_bits = get_enc_and_len_bits(image)\n",
    "\n",
    "print(f\"{enc_bits} = Byte encoding (8 bits per character)\")\n",
    "\n",
    "print(\n",
    "    f\"{len_bits} = {int(''.join([str(bit) for bit in len_bits]), 2)} data symbols, each consisting of 8 bits\"\n",
    ")"
   ]
  },
  {
   "cell_type": "code",
   "execution_count": null,
   "metadata": {},
   "outputs": [],
   "source": [
    "data_starting_indices = [\n",
    "    [grid_cells_num - 7, grid_cells_num - 1, UP],  #    w    /     H\n",
    "    [grid_cells_num - 11, grid_cells_num - 1, CCW],  #    w    /     e\n",
    "    [grid_cells_num - 10, grid_cells_num - 3, DOWN],  #    w    /     l\n",
    "    [grid_cells_num - 6, grid_cells_num - 3, DOWN],  #    .    /     l\n",
    "    [grid_cells_num - 2, grid_cells_num - 3, CW],  #    w    /     o\n",
    "    [grid_cells_num - 3, grid_cells_num - 5, UP],  #    i    /     ,\n",
    "    [grid_cells_num - 7, grid_cells_num - 5, UP],  #    k    /  (space)\n",
    "    [grid_cells_num - 11, grid_cells_num - 5, CCW],  #    i    /     Q\n",
    "    [grid_cells_num - 10, grid_cells_num - 7, DOWN],  #    p    /     R\n",
    "    [grid_cells_num - 6, grid_cells_num - 7, DOWN],  #    e    /  (space)\n",
    "    [grid_cells_num - 2, grid_cells_num - 7, CW],  #    d    /     W\n",
    "    [grid_cells_num - 3, grid_cells_num - 9, UP],  #    i    /     o\n",
    "    [grid_cells_num - 7, grid_cells_num - 9, UP],  #    a    /     r\n",
    "    [grid_cells_num - 11, grid_cells_num - 9, UP],  #    .    /     l\n",
    "    [grid_cells_num - 16, grid_cells_num - 9, UP],  #    o    /     d\n",
    "    [grid_cells_num - 20, grid_cells_num - 9, CCW],  #    r    /     !\n",
    "    [grid_cells_num - 19, grid_cells_num - 11, DOWN],  #    g    /     1\n",
    "    [grid_cells_num - 14, grid_cells_num - 11, DOWN],  # End of message (Terminator)\n",
    "    [grid_cells_num - 12, grid_cells_num - 11, DOWN],  # E1\n",
    "    [grid_cells_num - 8, grid_cells_num - 11, DOWN],  # E2\n",
    "    [grid_cells_num - 4, grid_cells_num - 11, DOWN],  # E3\n",
    "    [grid_cells_num - 9, grid_cells_num - 13, UP],  # E4\n",
    "    [grid_cells_num - 12, grid_cells_num - 16, DOWN],  # E5\n",
    "    [grid_cells_num - 9, grid_cells_num - 18, UP],  # E6\n",
    "    [grid_cells_num - 12, grid_cells_num - 20, DOWN],  # E7\n",
    "]"
   ]
  },
  {
   "cell_type": "code",
   "execution_count": null,
   "metadata": {},
   "outputs": [],
   "source": []
  }
 ],
 "metadata": {
  "kernelspec": {
   "display_name": "Python 3 (ipykernel)",
   "language": "python",
   "name": "python3"
  },
  "language_info": {
   "codemirror_mode": {
    "name": "ipython",
    "version": 3
   },
   "file_extension": ".py",
   "mimetype": "text/x-python",
   "name": "python",
   "nbconvert_exporter": "python",
   "pygments_lexer": "ipython3",
   "version": "3.9.6"
  }
 },
 "nbformat": 4,
 "nbformat_minor": 2
}
